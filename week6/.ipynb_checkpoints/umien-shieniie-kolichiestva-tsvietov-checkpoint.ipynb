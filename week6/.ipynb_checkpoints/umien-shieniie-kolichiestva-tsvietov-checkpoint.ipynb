{
 "cells": [
  {
   "cell_type": "code",
   "execution_count": 30,
   "metadata": {
    "collapsed": false
   },
   "outputs": [],
   "source": [
    "from skimage.io import imread\n",
    "\n",
    "image = imread('parrots.jpg')"
   ]
  },
  {
   "cell_type": "code",
   "execution_count": 31,
   "metadata": {
    "collapsed": false
   },
   "outputs": [],
   "source": [
    "from skimage import img_as_float"
   ]
  },
  {
   "cell_type": "code",
   "execution_count": 32,
   "metadata": {
    "collapsed": true
   },
   "outputs": [],
   "source": [
    "image_data = img_as_float(image)"
   ]
  },
  {
   "cell_type": "code",
   "execution_count": 33,
   "metadata": {
    "collapsed": false
   },
   "outputs": [
    {
     "name": "stdout",
     "output_type": "stream",
     "text": [
      "474\n",
      "713\n"
     ]
    }
   ],
   "source": [
    "print(len(image_data))\n",
    "print(len(image_data[0]))"
   ]
  },
  {
   "cell_type": "code",
   "execution_count": 82,
   "metadata": {
    "collapsed": false
   },
   "outputs": [
    {
     "name": "stdout",
     "output_type": "stream",
     "text": [
      "474\n",
      "713\n",
      "3\n"
     ]
    }
   ],
   "source": [
    "import numpy as np\n",
    "\n",
    "image_width = 713\n",
    "image_height = 474\n",
    "\n",
    "X = np.reshape(image_data, (-1, 3))\n",
    "\n",
    "X_backward = np.reshape(X, (-1, image_width, 3))\n",
    "\n",
    "print(len(X_backward))\n",
    "print(len(X_backward[0]))\n",
    "print(len(X_backward[0][0]))"
   ]
  },
  {
   "cell_type": "code",
   "execution_count": 98,
   "metadata": {
    "collapsed": false
   },
   "outputs": [],
   "source": [
    "import numpy as np\n",
    "from sklearn.cluster import KMeans\n",
    "\n",
    "def psnr(d1, d2):\n",
    "    maximum_data_value = 1\n",
    "    error = d1.astype(np.float64)-d2.astype(np.float64)\n",
    "    mean_squared_error = np.sum(error**2) / error.size\n",
    "    \n",
    "    return 10.0 * np.log10(maximum_data_value**2 / mean_squared_error)\n",
    "\n",
    "def clustered_data(n_clusters, X):\n",
    "    clf = KMeans(n_clusters=n_clusters, random_state=241, init='k-means++')\n",
    "    clf.fit(X)\n",
    "    y = clf.predict(X)\n",
    "    \n",
    "    X_median = X.copy()\n",
    "    X_mean = X.copy()\n",
    "    for i in range(clf.n_clusters):\n",
    "        X_median[y==i] = np.median(X[y==i], axis=0)\n",
    "        X_mean[y==i] = np.mean(X[y==i], axis=0)\n",
    "        \n",
    "    return X_mean, X_median, psnr(X, X_mean), psnr(X, X_median)"
   ]
  },
  {
   "cell_type": "code",
   "execution_count": 103,
   "metadata": {
    "collapsed": true
   },
   "outputs": [],
   "source": [
    "new_data = []\n",
    "for n_clusters in range(10, 21):\n",
    "    new_data.append(clustered_data(n_clusters=n_clusters, X=X))"
   ]
  },
  {
   "cell_type": "code",
   "execution_count": 114,
   "metadata": {
    "collapsed": false
   },
   "outputs": [
    {
     "name": "stdout",
     "output_type": "stream",
     "text": [
      "[(19.714770959372412, 19.452297945591667),\n",
      " (20.20214057680322, 19.935765999167966),\n",
      " (20.674704027557013, 20.385925740727409),\n",
      " (21.098566342630672, 20.87540374235229),\n",
      " (21.404108171627485, 21.201057045248184),\n",
      " (21.683472941042655, 21.483120748527543),\n",
      " (21.940483288218445, 21.747505075888402),\n",
      " (22.201957600158622, 21.996959140118047),\n",
      " (22.411208033847888, 22.209557093030085),\n",
      " (22.59812269554854, 22.435000084677),\n",
      " (22.787076656955687, 22.634569065801777)]\n"
     ]
    }
   ],
   "source": [
    "import pprint\n",
    "pprint.pprint([(item[2], item[3]) for item in new_data])"
   ]
  },
  {
   "cell_type": "code",
   "execution_count": 104,
   "metadata": {
    "collapsed": true
   },
   "outputs": [],
   "source": [
    "import matplotlib.pyplot as plt\n",
    "\n",
    "plt.plot()\n",
    "\n",
    "plt.subplot(211)\n",
    "plt.imshow(np.reshape(new_data[0][1], (-1, image_width, 3)))\n",
    "\n",
    "plt.subplot(212)\n",
    "plt.imshow(np.reshape(new_data[-1][1], (-1, image_width, 3)))\n",
    "plt.show()"
   ]
  }
 ],
 "metadata": {
  "kernelspec": {
   "display_name": "Python 2",
   "language": "python",
   "name": "python2"
  },
  "language_info": {
   "codemirror_mode": {
    "name": "ipython",
    "version": 2
   },
   "file_extension": ".py",
   "mimetype": "text/x-python",
   "name": "python",
   "nbconvert_exporter": "python",
   "pygments_lexer": "ipython2",
   "version": "2.7.6"
  }
 },
 "nbformat": 4,
 "nbformat_minor": 0
}
