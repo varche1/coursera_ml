{
 "cells": [
  {
   "cell_type": "code",
   "execution_count": 1,
   "metadata": {
    "collapsed": false
   },
   "outputs": [
    {
     "data": {
      "text/html": [
       "<div>\n",
       "<table border=\"1\" class=\"dataframe\">\n",
       "  <thead>\n",
       "    <tr style=\"text-align: right;\">\n",
       "      <th></th>\n",
       "      <th>start_time</th>\n",
       "      <th>lobby_type</th>\n",
       "      <th>r1_hero</th>\n",
       "      <th>r1_level</th>\n",
       "      <th>r1_xp</th>\n",
       "      <th>r1_gold</th>\n",
       "      <th>r1_lh</th>\n",
       "      <th>r1_kills</th>\n",
       "      <th>r1_deaths</th>\n",
       "      <th>r1_items</th>\n",
       "      <th>...</th>\n",
       "      <th>dire_boots_count</th>\n",
       "      <th>dire_ward_observer_count</th>\n",
       "      <th>dire_ward_sentry_count</th>\n",
       "      <th>dire_first_ward_time</th>\n",
       "      <th>duration</th>\n",
       "      <th>radiant_win</th>\n",
       "      <th>tower_status_radiant</th>\n",
       "      <th>tower_status_dire</th>\n",
       "      <th>barracks_status_radiant</th>\n",
       "      <th>barracks_status_dire</th>\n",
       "    </tr>\n",
       "    <tr>\n",
       "      <th>match_id</th>\n",
       "      <th></th>\n",
       "      <th></th>\n",
       "      <th></th>\n",
       "      <th></th>\n",
       "      <th></th>\n",
       "      <th></th>\n",
       "      <th></th>\n",
       "      <th></th>\n",
       "      <th></th>\n",
       "      <th></th>\n",
       "      <th></th>\n",
       "      <th></th>\n",
       "      <th></th>\n",
       "      <th></th>\n",
       "      <th></th>\n",
       "      <th></th>\n",
       "      <th></th>\n",
       "      <th></th>\n",
       "      <th></th>\n",
       "      <th></th>\n",
       "      <th></th>\n",
       "    </tr>\n",
       "  </thead>\n",
       "  <tbody>\n",
       "    <tr>\n",
       "      <th>0</th>\n",
       "      <td>1430198770</td>\n",
       "      <td>7</td>\n",
       "      <td>11</td>\n",
       "      <td>5</td>\n",
       "      <td>2098</td>\n",
       "      <td>1489</td>\n",
       "      <td>20</td>\n",
       "      <td>0</td>\n",
       "      <td>0</td>\n",
       "      <td>7</td>\n",
       "      <td>...</td>\n",
       "      <td>4</td>\n",
       "      <td>2</td>\n",
       "      <td>2</td>\n",
       "      <td>-52</td>\n",
       "      <td>2874</td>\n",
       "      <td>1</td>\n",
       "      <td>1796</td>\n",
       "      <td>0</td>\n",
       "      <td>51</td>\n",
       "      <td>0</td>\n",
       "    </tr>\n",
       "    <tr>\n",
       "      <th>1</th>\n",
       "      <td>1430220345</td>\n",
       "      <td>0</td>\n",
       "      <td>42</td>\n",
       "      <td>4</td>\n",
       "      <td>1188</td>\n",
       "      <td>1033</td>\n",
       "      <td>9</td>\n",
       "      <td>0</td>\n",
       "      <td>1</td>\n",
       "      <td>12</td>\n",
       "      <td>...</td>\n",
       "      <td>4</td>\n",
       "      <td>3</td>\n",
       "      <td>1</td>\n",
       "      <td>-5</td>\n",
       "      <td>2463</td>\n",
       "      <td>1</td>\n",
       "      <td>1974</td>\n",
       "      <td>0</td>\n",
       "      <td>63</td>\n",
       "      <td>1</td>\n",
       "    </tr>\n",
       "    <tr>\n",
       "      <th>2</th>\n",
       "      <td>1430227081</td>\n",
       "      <td>7</td>\n",
       "      <td>33</td>\n",
       "      <td>4</td>\n",
       "      <td>1319</td>\n",
       "      <td>1270</td>\n",
       "      <td>22</td>\n",
       "      <td>0</td>\n",
       "      <td>0</td>\n",
       "      <td>12</td>\n",
       "      <td>...</td>\n",
       "      <td>4</td>\n",
       "      <td>3</td>\n",
       "      <td>1</td>\n",
       "      <td>13</td>\n",
       "      <td>2130</td>\n",
       "      <td>0</td>\n",
       "      <td>0</td>\n",
       "      <td>1830</td>\n",
       "      <td>0</td>\n",
       "      <td>63</td>\n",
       "    </tr>\n",
       "    <tr>\n",
       "      <th>3</th>\n",
       "      <td>1430263531</td>\n",
       "      <td>1</td>\n",
       "      <td>29</td>\n",
       "      <td>4</td>\n",
       "      <td>1779</td>\n",
       "      <td>1056</td>\n",
       "      <td>14</td>\n",
       "      <td>0</td>\n",
       "      <td>0</td>\n",
       "      <td>5</td>\n",
       "      <td>...</td>\n",
       "      <td>4</td>\n",
       "      <td>2</td>\n",
       "      <td>0</td>\n",
       "      <td>27</td>\n",
       "      <td>1459</td>\n",
       "      <td>0</td>\n",
       "      <td>1920</td>\n",
       "      <td>2047</td>\n",
       "      <td>50</td>\n",
       "      <td>63</td>\n",
       "    </tr>\n",
       "    <tr>\n",
       "      <th>4</th>\n",
       "      <td>1430282290</td>\n",
       "      <td>7</td>\n",
       "      <td>13</td>\n",
       "      <td>4</td>\n",
       "      <td>1431</td>\n",
       "      <td>1090</td>\n",
       "      <td>8</td>\n",
       "      <td>1</td>\n",
       "      <td>0</td>\n",
       "      <td>8</td>\n",
       "      <td>...</td>\n",
       "      <td>3</td>\n",
       "      <td>3</td>\n",
       "      <td>0</td>\n",
       "      <td>-16</td>\n",
       "      <td>2449</td>\n",
       "      <td>0</td>\n",
       "      <td>4</td>\n",
       "      <td>1974</td>\n",
       "      <td>3</td>\n",
       "      <td>63</td>\n",
       "    </tr>\n",
       "  </tbody>\n",
       "</table>\n",
       "<p>5 rows × 108 columns</p>\n",
       "</div>"
      ],
      "text/plain": [
       "          start_time  lobby_type  r1_hero  r1_level  r1_xp  r1_gold  r1_lh  \\\n",
       "match_id                                                                     \n",
       "0         1430198770           7       11         5   2098     1489     20   \n",
       "1         1430220345           0       42         4   1188     1033      9   \n",
       "2         1430227081           7       33         4   1319     1270     22   \n",
       "3         1430263531           1       29         4   1779     1056     14   \n",
       "4         1430282290           7       13         4   1431     1090      8   \n",
       "\n",
       "          r1_kills  r1_deaths  r1_items          ...           \\\n",
       "match_id                                         ...            \n",
       "0                0          0         7          ...            \n",
       "1                0          1        12          ...            \n",
       "2                0          0        12          ...            \n",
       "3                0          0         5          ...            \n",
       "4                1          0         8          ...            \n",
       "\n",
       "          dire_boots_count  dire_ward_observer_count  dire_ward_sentry_count  \\\n",
       "match_id                                                                       \n",
       "0                        4                         2                       2   \n",
       "1                        4                         3                       1   \n",
       "2                        4                         3                       1   \n",
       "3                        4                         2                       0   \n",
       "4                        3                         3                       0   \n",
       "\n",
       "          dire_first_ward_time  duration  radiant_win  tower_status_radiant  \\\n",
       "match_id                                                                      \n",
       "0                          -52      2874            1                  1796   \n",
       "1                           -5      2463            1                  1974   \n",
       "2                           13      2130            0                     0   \n",
       "3                           27      1459            0                  1920   \n",
       "4                          -16      2449            0                     4   \n",
       "\n",
       "          tower_status_dire  barracks_status_radiant  barracks_status_dire  \n",
       "match_id                                                                    \n",
       "0                         0                       51                     0  \n",
       "1                         0                       63                     1  \n",
       "2                      1830                        0                    63  \n",
       "3                      2047                       50                    63  \n",
       "4                      1974                        3                    63  \n",
       "\n",
       "[5 rows x 108 columns]"
      ]
     },
     "execution_count": 1,
     "metadata": {},
     "output_type": "execute_result"
    }
   ],
   "source": [
    "import pandas\n",
    "\n",
    "# Считайте таблицу с признаками из файла features.csv\n",
    "features = pandas.read_csv('./features.csv', index_col='match_id')\n",
    "\n",
    "features.head()"
   ]
  },
  {
   "cell_type": "code",
   "execution_count": 2,
   "metadata": {
    "collapsed": false
   },
   "outputs": [],
   "source": [
    "match_result_columns = [\n",
    "    'duration',\n",
    "    'radiant_win',\n",
    "    'tower_status_radiant',\n",
    "    'tower_status_dire',\n",
    "    'barracks_status_radiant',\n",
    "    'barracks_status_dire'\n",
    "]\n",
    "\n",
    "# Удалите признаки, связанные с итогами матча\n",
    "match_result_data = features[match_result_columns]\n",
    "y = match_result_data['radiant_win']\n",
    "\n",
    "match_progress_data = features.drop(match_result_columns, axis=1)"
   ]
  },
  {
   "cell_type": "code",
   "execution_count": 19,
   "metadata": {
    "collapsed": false
   },
   "outputs": [],
   "source": [
    "progress_count = match_progress_data.count()"
   ]
  },
  {
   "cell_type": "code",
   "execution_count": 23,
   "metadata": {
    "collapsed": false
   },
   "outputs": [
    {
     "name": "stdout",
     "output_type": "stream",
     "text": [
      "first_blood_time               77677\n",
      "first_blood_team               77677\n",
      "first_blood_player1            77677\n",
      "first_blood_player2            53243\n",
      "radiant_bottle_time            81539\n",
      "radiant_courier_time           96538\n",
      "radiant_flying_courier_time    69751\n",
      "radiant_first_ward_time        95394\n",
      "dire_bottle_time               81087\n",
      "dire_courier_time              96554\n",
      "dire_flying_courier_time       71132\n",
      "dire_first_ward_time           95404\n",
      "dtype: int64\n",
      "\n",
      "Вопрос: Много ли пропусков в данных?\n",
      "Ответ: из 102 признаков, частично заполнены 12\n",
      "\n",
      "Вопрос: Запишите названия признаков, имеющих пропуски, и попробуйте для любых двух из них датьобоснование, почему их значения могут быть пропущены.\n",
      "Ответ: Список названий признаков, имеющих пропуски:\n",
      "first_blood_time, first_blood_team, first_blood_player1, first_blood_player2, radiant_bottle_time, radiant_courier_time, radiant_flying_courier_time, radiant_first_ward_time, dire_bottle_time, dire_courier_time, dire_flying_courier_time, dire_first_ward_time\n",
      "\n",
      "Основание пропусков для признаков:\n",
      "* first_blood_time: игровое время первой крови\n",
      "* first_blood_team: команда, совершившая первую кровь (0 — Radiant, 1 — Dire)\n",
      "* first_blood_player1: игрок, причастный к событию\n",
      "* first_blood_player2: второй игрок, причастный к событию\n",
      "\n",
      "Понятно из описания задачи: \"Если событие \"первая кровь\" не успело произойти за первые 5 минут, \n",
      "то признаки принимают пропущенное значение\"\n",
      "\n",
      "Признаки:\n",
      "* radiant_bottle_time\n",
      "* radiant_courier_time\n",
      "* radiant_flying_courier_time\n",
      "* radiant_first_ward_time\n",
      "* dire_bottle_time\n",
      "* dire_courier_time\n",
      "* dire_flying_courier_time\n",
      "* dire_first_ward_time\n",
      "\n",
      "описывают время наступления некоторого необязательного события игры. Судя по всему - в некоторых матчах данное\n",
      "событие не наступило в первые 5 минут матча.\n",
      "\n"
     ]
    }
   ],
   "source": [
    "partial_columns_info = progress_count[progress_count != progress_count.max()]\n",
    "print(partial_columns_info)\n",
    "\n",
    "print(u\"\\nВопрос: Много ли пропусков в данных?\")\n",
    "print(u\"Ответ: из {} признаков, частично заполнены {}\".format(len(progress_count), len(partial_columns_info)))\n",
    "\n",
    "print(u\"\\nВопрос: Запишите названия признаков, имеющих пропуски, и попробуйте для любых двух из них дать\" \n",
    "      u\"обоснование, почему их значения могут быть пропущены.\")\n",
    "print(u\"Ответ: Список названий признаков, имеющих пропуски:\")\n",
    "print(\", \".join([key for key in partial_columns_info.keys()]))\n",
    "\n",
    "print(u\"\"\"\n",
    "Основание пропусков для признаков:\n",
    "* first_blood_time: игровое время первой крови\n",
    "* first_blood_team: команда, совершившая первую кровь (0 — Radiant, 1 — Dire)\n",
    "* first_blood_player1: игрок, причастный к событию\n",
    "* first_blood_player2: второй игрок, причастный к событию\n",
    "\n",
    "Понятно из описания задачи: \"Если событие \"первая кровь\" не успело произойти за первые 5 минут, \n",
    "то признаки принимают пропущенное значение\"\n",
    "\n",
    "Признаки:\n",
    "* radiant_bottle_time\n",
    "* radiant_courier_time\n",
    "* radiant_flying_courier_time\n",
    "* radiant_first_ward_time\n",
    "* dire_bottle_time\n",
    "* dire_courier_time\n",
    "* dire_flying_courier_time\n",
    "* dire_first_ward_time\n",
    "\n",
    "описывают время наступления некоторого необязательного события игры. Судя по всему - в некоторых матчах данное\n",
    "событие не наступило в первые 5 минут матча.\n",
    "\"\"\")"
   ]
  },
  {
   "cell_type": "code",
   "execution_count": 3,
   "metadata": {
    "collapsed": false
   },
   "outputs": [],
   "source": [
    "# Замените пропуски на нули с помощью функции fillna()\n",
    "X = match_progress_data.fillna(0)"
   ]
  },
  {
   "cell_type": "code",
   "execution_count": 27,
   "metadata": {
    "collapsed": false
   },
   "outputs": [
    {
     "name": "stdout",
     "output_type": "stream",
     "text": [
      "Вопрос: Какой столбец содержит целевую переменную? Запишите его название.\n",
      "Ответ: radiant_win (1, если победила команда Radiant, 0 — иначе)\n"
     ]
    }
   ],
   "source": [
    "print(u\"Вопрос: Какой столбец содержит целевую переменную? Запишите его название.\")\n",
    "print(u\"Ответ: radiant_win (1, если победила команда Radiant, 0 — иначе)\")"
   ]
  },
  {
   "cell_type": "code",
   "execution_count": 4,
   "metadata": {
    "collapsed": false
   },
   "outputs": [],
   "source": [
    "import time\n",
    "import datetime\n",
    "from sklearn.ensemble import GradientBoostingClassifier\n",
    "from sklearn.cross_validation import KFold, cross_val_score\n",
    "from sklearn.grid_search import GridSearchCV\n",
    "\n",
    "\n",
    "def print_exec_time(func):\n",
    "    def wrapper(*args, **kwargs):\n",
    "        start_time = datetime.datetime.now()\n",
    "        return_value = func(*args, **kwargs)\n",
    "        end_time = datetime.datetime.now()\n",
    "        print(\"Execution time of {} is {} (args: {}, kwargs: {})\".format(\n",
    "            func.__name__, end_time - start_time, args, kwargs)\n",
    "        )\n",
    "        \n",
    "        return return_value\n",
    "\n",
    "    return wrapper\n",
    "\n",
    "# @print_exec_time\n",
    "# def get_scores_by_n_estimators_grid(n_estimators):\n",
    "    \n",
    "#     grid = {'C': np.arange(0.1, 2.3, step=0.1)}\n",
    "#     k_fold = KFold(len(y), n_folds=5, random_state=1, shuffle=True)\n",
    "#     clf = GradientBoostingClassifier(\n",
    "#         n_estimators=n_estimators,\n",
    "#         random_state=1\n",
    "#     )\n",
    "#     gs = GridSearchCV(clf, grid, scoring='roc_auc', cv=k_fold, n_jobs=-1)\n",
    "#     gs.fit(X, y)\n",
    "\n",
    "\n",
    "#     clf = GradientBoostingClassifier(\n",
    "#         n_estimators=n_estimators,\n",
    "#         random_state=1,\n",
    "#         learning_rate=learning_rate,\n",
    "#         max_depth=max_depth,\n",
    "#         subsample=subsample\n",
    "#     )\n",
    "\n",
    "#     k_fold = KFold(len(y), n_folds=5, random_state=1, shuffle=True)\n",
    "#     scores = cross_val_score(clf, X, y, cv=k_fold, scoring='roc_auc', n_jobs=-1)\n",
    "#     return scores.mean()\n",
    "\n",
    "@print_exec_time\n",
    "def get_scores_by_n_estimators(n_estimators, learning_rate=0.1, max_depth=3, subsample=1.0):\n",
    "    clf = GradientBoostingClassifier(\n",
    "        n_estimators=n_estimators,\n",
    "        random_state=1,\n",
    "        learning_rate=learning_rate,\n",
    "        max_depth=max_depth,\n",
    "        subsample=subsample\n",
    "    )\n",
    "\n",
    "    k_fold = KFold(len(y), n_folds=5, random_state=1, shuffle=True)\n",
    "    scores = cross_val_score(clf, X, y, cv=k_fold, scoring='roc_auc', n_jobs=-1)\n",
    "    return scores.mean()"
   ]
  },
  {
   "cell_type": "code",
   "execution_count": 56,
   "metadata": {
    "collapsed": false
   },
   "outputs": [
    {
     "name": "stdout",
     "output_type": "stream",
     "text": [
      "Execution time of get_scores_by_n_estimators is 0:00:47.414812 (args: (), kwargs: {'n_estimators': 30})\n"
     ]
    }
   ],
   "source": [
    "all_scores = list()\n",
    "for n_estimators in [30]:\n",
    "    all_scores.append((n_estimators, get_scores_by_n_estimators(n_estimators=n_estimators)))"
   ]
  },
  {
   "cell_type": "code",
   "execution_count": 71,
   "metadata": {
    "collapsed": false
   },
   "outputs": [
    {
     "data": {
      "text/plain": [
       "[(200, 0.71532383145178025),\n",
       " (400, 0.71471199024982923),\n",
       " (700, 0.70978495252079088),\n",
       " (1000, 0.70645424347752162)]"
      ]
     },
     "execution_count": 71,
     "metadata": {},
     "output_type": "execute_result"
    }
   ],
   "source": [
    "all_scores"
   ]
  },
  {
   "cell_type": "code",
   "execution_count": 5,
   "metadata": {
    "collapsed": true
   },
   "outputs": [],
   "source": [
    "from sklearn.preprocessing import StandardScaler\n",
    "\n",
    "X_scalled = StandardScaler().fit_transform(X)"
   ]
  },
  {
   "cell_type": "code",
   "execution_count": 9,
   "metadata": {
    "collapsed": false
   },
   "outputs": [
    {
     "data": {
      "text/plain": [
       "GridSearchCV(cv=sklearn.cross_validation.KFold(n=97230, n_folds=5, shuffle=True, random_state=241),\n",
       "       error_score='raise',\n",
       "       estimator=LogisticRegression(C=1.0, class_weight=None, dual=False, fit_intercept=True,\n",
       "          intercept_scaling=1, max_iter=100, multi_class='ovr', n_jobs=1,\n",
       "          penalty='l2', random_state=241, solver='liblinear', tol=0.0001,\n",
       "          verbose=0, warm_start=False),\n",
       "       fit_params={}, iid=True, n_jobs=-1,\n",
       "       param_grid={'C': array([  1.00000e-05,   1.00000e-04,   1.00000e-03,   1.00000e-02,\n",
       "         1.00000e-01,   1.00000e+00,   1.00000e+01,   1.00000e+02,\n",
       "         1.00000e+03,   1.00000e+04,   1.00000e+05])},\n",
       "       pre_dispatch='2*n_jobs', refit=True, scoring='roc_auc', verbose=0)"
      ]
     },
     "execution_count": 9,
     "metadata": {},
     "output_type": "execute_result"
    }
   ],
   "source": [
    "import numpy as np\n",
    "from sklearn.svm import SVC\n",
    "from sklearn.cross_validation import KFold\n",
    "from sklearn.grid_search import GridSearchCV\n",
    "from sklearn.linear_model import LogisticRegression\n",
    "\n",
    "grid = {'C': np.power(10.0, np.arange(-5, 6))}\n",
    "cv = KFold(len(y), n_folds=5, shuffle=True, random_state=241)\n",
    "clf = LogisticRegression(penalty='l2', random_state=241)\n",
    "gs = GridSearchCV(clf, grid, scoring='roc_auc', cv=cv, n_jobs=-1)\n",
    "gs.fit(X_scalled, y)"
   ]
  },
  {
   "cell_type": "code",
   "execution_count": 10,
   "metadata": {
    "collapsed": false
   },
   "outputs": [
    {
     "name": "stdout",
     "output_type": "stream",
     "text": [
      "Best params is {'C': 0.01}\n",
      "Best score is 0.716341465365\n"
     ]
    }
   ],
   "source": [
    "print(\"Best params is {}\".format(gs.best_params_))\n",
    "print(\"Best score is {}\".format(gs.best_score_))"
   ]
  },
  {
   "cell_type": "code",
   "execution_count": 11,
   "metadata": {
    "collapsed": true
   },
   "outputs": [],
   "source": [
    "@print_exec_time\n",
    "def get_scores_by_n_estimators_for_logit(X, C=0.1):\n",
    "    clf = LogisticRegression(penalty='l2', random_state=241, C=C)\n",
    "\n",
    "    k_fold = KFold(len(y), n_folds=5, random_state=241, shuffle=True)\n",
    "    scores = cross_val_score(clf, X, y, cv=k_fold, scoring='roc_auc', n_jobs=-1)\n",
    "    return scores.mean()"
   ]
  },
  {
   "cell_type": "code",
   "execution_count": 13,
   "metadata": {
    "collapsed": false
   },
   "outputs": [
    {
     "name": "stdout",
     "output_type": "stream",
     "text": [
      "Вопрос: Какое качество получилось у логистической регрессии над всеми исходными признаками?\n",
      "Execution time of get_scores_by_n_estimators_for_logit is 0:00:06.123188 (args: (), kwargs: {'X': array([[-2.54436416,  1.54068827, -1.24422828, ..., -0.55115386,\n",
      "         1.84600409, -1.12149424],\n",
      "       [-2.54045236, -0.92779756, -0.29225805, ...,  0.67817009,\n",
      "         0.43778816,  0.04394713],\n",
      "       [-2.53923104,  1.54068827, -0.5686365 , ...,  0.67817009,\n",
      "         0.43778816,  0.49028637],\n",
      "       ..., \n",
      "       [ 1.09874571, -0.57515673,  1.42743012, ...,  0.67817009,\n",
      "         0.43778816, -0.20401912],\n",
      "       [ 1.09895204, -0.57515673,  1.48884755, ...,  0.67817009,\n",
      "         0.43778816, -0.87352799],\n",
      "       [ 1.1026479 ,  1.54068827, -0.04658831, ..., -0.55115386,\n",
      "        -0.97042777, -0.79913812]]), 'C': 0.01})\n",
      "Ответ: 0.716341465365\n"
     ]
    }
   ],
   "source": [
    "print(u\"Вопрос: Какое качество получилось у логистической регрессии над всеми исходными признаками?\")\n",
    "print(u\"Ответ: {}\".format(get_scores_by_n_estimators_for_logit(X=X_scalled, **gs.best_params_)))"
   ]
  },
  {
   "cell_type": "code",
   "execution_count": 41,
   "metadata": {
    "collapsed": true
   },
   "outputs": [],
   "source": [
    "hero_columns = [\n",
    "    'r1_hero',\n",
    "    'r2_hero',\n",
    "    'r3_hero',\n",
    "    'r4_hero',\n",
    "    'r5_hero',\n",
    "    'd1_hero',\n",
    "    'd2_hero',\n",
    "    'd3_hero',\n",
    "    'd4_hero',\n",
    "    'd5_hero',\n",
    "]\n",
    "\n",
    "category_columns = hero_columns + ['lobby_type']\n",
    "\n",
    "X_no_caterories = X.drop(category_columns, axis=1)"
   ]
  },
  {
   "cell_type": "code",
   "execution_count": 15,
   "metadata": {
    "collapsed": false
   },
   "outputs": [],
   "source": [
    "X_no_caterories_scalled = StandardScaler().fit_transform(X_no_caterories)"
   ]
  },
  {
   "cell_type": "code",
   "execution_count": 88,
   "metadata": {
    "collapsed": false
   },
   "outputs": [
    {
     "data": {
      "text/plain": [
       "GridSearchCV(cv=sklearn.cross_validation.KFold(n=97230, n_folds=5, shuffle=True, random_state=241),\n",
       "       error_score='raise',\n",
       "       estimator=LogisticRegression(C=1.0, class_weight=None, dual=False, fit_intercept=True,\n",
       "          intercept_scaling=1, max_iter=100, multi_class='ovr', n_jobs=1,\n",
       "          penalty='l2', random_state=241, solver='liblinear', tol=0.0001,\n",
       "          verbose=0, warm_start=False),\n",
       "       fit_params={}, iid=True, n_jobs=-1,\n",
       "       param_grid={'C': array([  1.00000e-05,   1.00000e-04,   1.00000e-03,   1.00000e-02,\n",
       "         1.00000e-01,   1.00000e+00,   1.00000e+01,   1.00000e+02,\n",
       "         1.00000e+03,   1.00000e+04,   1.00000e+05])},\n",
       "       pre_dispatch='2*n_jobs', refit=True, scoring='roc_auc', verbose=0)"
      ]
     },
     "execution_count": 88,
     "metadata": {},
     "output_type": "execute_result"
    }
   ],
   "source": [
    "grid = {'C': np.power(10.0, np.arange(-5, 6))}\n",
    "cv = KFold(len(y), n_folds=5, shuffle=True, random_state=241)\n",
    "clf = LogisticRegression(penalty='l2', random_state=241)\n",
    "gs = GridSearchCV(clf, grid, scoring='roc_auc', cv=cv, n_jobs=-1)\n",
    "gs.fit(X_no_caterories_scalled, y)"
   ]
  },
  {
   "cell_type": "code",
   "execution_count": 94,
   "metadata": {
    "collapsed": false
   },
   "outputs": [
    {
     "name": "stdout",
     "output_type": "stream",
     "text": [
      "Best params is {'C': 0.01}\n",
      "Best score is 0.716400950653\n"
     ]
    }
   ],
   "source": [
    "print(\"Best params is {}\".format(gs.best_params_))\n",
    "print(\"Best score is {}\".format(gs.best_score_))"
   ]
  },
  {
   "cell_type": "code",
   "execution_count": 93,
   "metadata": {
    "collapsed": false
   },
   "outputs": [
    {
     "name": "stdout",
     "output_type": "stream",
     "text": [
      "Как влияет на качество логистической регрессии удаление категориальныхпризнаков (укажите новое значение метрики качества)?\n",
      "Execution time of get_scores_by_n_estimators_for_logit is 0:00:15.227613 (args: (), kwargs: {'X': array([[-2.54436416,  1.40080818,  1.52597175, ..., -0.55115386,\n",
      "         1.84600409, -1.12149424],\n",
      "       [-2.54045236,  0.50131354, -0.08013929, ...,  0.67817009,\n",
      "         0.43778816,  0.04394713],\n",
      "       [-2.53923104,  0.50131354,  0.1510701 , ...,  0.67817009,\n",
      "         0.43778816,  0.49028637],\n",
      "       ..., \n",
      "       [ 1.09874571,  0.50131354,  0.29226667, ...,  0.67817009,\n",
      "         0.43778816, -0.20401912],\n",
      "       [ 1.09895204, -0.39818111, -0.17368203, ...,  0.67817009,\n",
      "         0.43778816, -0.87352799],\n",
      "       [ 1.1026479 , -0.39818111, -0.31840851, ..., -0.55115386,\n",
      "        -0.97042777, -0.79913812]]), 'C': 0.01})\n",
      "Ответ: 0.716400950653\n"
     ]
    }
   ],
   "source": [
    "print(u\"Как влияет на качество логистической регрессии удаление категориальных\" \n",
    "      u\"признаков (укажите новое значение метрики качества)?\")\n",
    "print(u\"Ответ: {}\".format(get_scores_by_n_estimators_for_logit(X=X_no_caterories_scalled, **gs.best_params_)))"
   ]
  },
  {
   "cell_type": "code",
   "execution_count": 112,
   "metadata": {
    "collapsed": false
   },
   "outputs": [],
   "source": [
    "all_heroes = np.unique(X[hero_columns])"
   ]
  },
  {
   "cell_type": "code",
   "execution_count": 16,
   "metadata": {
    "collapsed": false
   },
   "outputs": [],
   "source": [
    "# формирование мешка слов\n",
    "X_with_bags = pandas.get_dummies(X, columns=hero_columns)\n",
    "\n",
    "X_with_bags_scalled = StandardScaler().fit_transform(X_with_bags)"
   ]
  },
  {
   "cell_type": "code",
   "execution_count": 17,
   "metadata": {
    "collapsed": false
   },
   "outputs": [
    {
     "data": {
      "text/plain": [
       "GridSearchCV(cv=sklearn.cross_validation.KFold(n=97230, n_folds=5, shuffle=True, random_state=241),\n",
       "       error_score='raise',\n",
       "       estimator=LogisticRegression(C=1.0, class_weight=None, dual=False, fit_intercept=True,\n",
       "          intercept_scaling=1, max_iter=100, multi_class='ovr', n_jobs=1,\n",
       "          penalty='l2', random_state=241, solver='liblinear', tol=0.0001,\n",
       "          verbose=0, warm_start=False),\n",
       "       fit_params={}, iid=True, n_jobs=-1,\n",
       "       param_grid={'C': array([  1.00000e-05,   1.00000e-04,   1.00000e-03,   1.00000e-02,\n",
       "         1.00000e-01,   1.00000e+00,   1.00000e+01,   1.00000e+02,\n",
       "         1.00000e+03,   1.00000e+04,   1.00000e+05])},\n",
       "       pre_dispatch='2*n_jobs', refit=True, scoring='roc_auc', verbose=0)"
      ]
     },
     "execution_count": 17,
     "metadata": {},
     "output_type": "execute_result"
    }
   ],
   "source": [
    "grid = {'C': np.power(10.0, np.arange(-5, 6))}\n",
    "cv = KFold(len(y), n_folds=5, shuffle=True, random_state=241)\n",
    "clf = LogisticRegression(penalty='l2', random_state=241)\n",
    "gs = GridSearchCV(clf, grid, scoring='roc_auc', cv=cv, n_jobs=-1)\n",
    "gs.fit(X_with_bags_scalled, y)"
   ]
  },
  {
   "cell_type": "code",
   "execution_count": 18,
   "metadata": {
    "collapsed": false
   },
   "outputs": [
    {
     "name": "stdout",
     "output_type": "stream",
     "text": [
      "Best params is {'C': 0.01}\n",
      "Best score is 0.744640994532\n"
     ]
    }
   ],
   "source": [
    "print(\"Best params is {}\".format(gs.best_params_))\n",
    "print(\"Best score is {}\".format(gs.best_score_))"
   ]
  },
  {
   "cell_type": "code",
   "execution_count": 20,
   "metadata": {
    "collapsed": false
   },
   "outputs": [
    {
     "name": "stdout",
     "output_type": "stream",
     "text": [
      "Execution time of get_scores_by_n_estimators_for_logit is 0:00:58.985496 (args: (), kwargs: {'X': array([[-2.54436416,  1.54068827,  1.40080818, ..., -0.0115638 ,\n",
      "        -0.09736075, -0.20053848],\n",
      "       [-2.54045236, -0.92779756,  0.50131354, ..., -0.0115638 ,\n",
      "        -0.09736075, -0.20053848],\n",
      "       [-2.53923104,  1.54068827,  0.50131354, ..., -0.0115638 ,\n",
      "        -0.09736075, -0.20053848],\n",
      "       ..., \n",
      "       [ 1.09874571, -0.57515673,  0.50131354, ..., -0.0115638 ,\n",
      "        -0.09736075, -0.20053848],\n",
      "       [ 1.09895204, -0.57515673, -0.39818111, ..., -0.0115638 ,\n",
      "        -0.09736075, -0.20053848],\n",
      "       [ 1.1026479 ,  1.54068827, -0.39818111, ..., -0.0115638 ,\n",
      "        -0.09736075, -0.20053848]]), 'C': 0.01})\n"
     ]
    },
    {
     "data": {
      "text/plain": [
       "0.74464099453234023"
      ]
     },
     "execution_count": 20,
     "metadata": {},
     "output_type": "execute_result"
    }
   ],
   "source": [
    "get_scores_by_n_estimators_for_logit(X=X_with_bags_scalled, **gs.best_params_)"
   ]
  },
  {
   "cell_type": "code",
   "execution_count": 21,
   "metadata": {
    "collapsed": true
   },
   "outputs": [],
   "source": [
    "all_heroes = np.unique(X[hero_columns])"
   ]
  },
  {
   "cell_type": "code",
   "execution_count": 36,
   "metadata": {
    "collapsed": false
   },
   "outputs": [],
   "source": [
    "X_pick = np.zeros((X.shape[0], max(all_heroes)))\n",
    "\n",
    "for i, match_id in enumerate(X.index):\n",
    "    for p in xrange(5):\n",
    "        X_pick[i, X.ix[match_id, 'r%d_hero' % (p+1)]-1] = 1\n",
    "        X_pick[i, X.ix[match_id, 'd%d_hero' % (p+1)]-1] = -1"
   ]
  },
  {
   "cell_type": "code",
   "execution_count": 46,
   "metadata": {
    "collapsed": false
   },
   "outputs": [],
   "source": [
    "from scipy.sparse import hstack\n",
    "\n",
    "X_no_caterories_bag_words = hstack([X_no_caterories, X_pick]).toarray()"
   ]
  },
  {
   "cell_type": "code",
   "execution_count": 47,
   "metadata": {
    "collapsed": false
   },
   "outputs": [],
   "source": [
    "X_no_caterories_bag_words_scalled = StandardScaler().fit_transform(X_no_caterories_bag_words)"
   ]
  },
  {
   "cell_type": "code",
   "execution_count": 51,
   "metadata": {
    "collapsed": false
   },
   "outputs": [],
   "source": [
    "@print_exec_time\n",
    "def get_grid_search_cv_logit(X):\n",
    "    grid = {'C': np.power(10.0, np.arange(-5, 6))}\n",
    "    cv = KFold(len(y), n_folds=5, shuffle=True, random_state=241)\n",
    "    clf = LogisticRegression(penalty='l2', random_state=241)\n",
    "    gs = GridSearchCV(clf, grid, scoring='roc_auc', cv=cv, n_jobs=-1)\n",
    "    gs.fit(X, y)\n",
    "    return gs"
   ]
  },
  {
   "cell_type": "code",
   "execution_count": 52,
   "metadata": {
    "collapsed": false
   },
   "outputs": [
    {
     "name": "stdout",
     "output_type": "stream",
     "text": [
      "Execution time of get_grid_search_cv_logit is 0:01:46.058793 (args: (), kwargs: {'X': array([[ -2.54436416e+00,   1.40080818e+00,   1.52597175e+00, ...,\n",
      "         -4.83865990e-03,   0.00000000e+00,   8.46061344e-04],\n",
      "       [ -2.54045236e+00,   5.01313538e-01,  -8.01392943e-02, ...,\n",
      "         -4.83865990e-03,   0.00000000e+00,   8.46061344e-04],\n",
      "       [ -2.53923104e+00,   5.01313538e-01,   1.51070097e-01, ...,\n",
      "         -4.83865990e-03,   0.00000000e+00,   8.46061344e-04],\n",
      "       ..., \n",
      "       [  1.09874571e+00,   5.01313538e-01,   2.92266672e-01, ...,\n",
      "         -4.83865990e-03,   0.00000000e+00,   1.64609695e+00],\n",
      "       [  1.09895204e+00,  -3.98181106e-01,  -1.73682025e-01, ...,\n",
      "         -4.83865990e-03,   0.00000000e+00,   8.46061344e-04],\n",
      "       [  1.10264790e+00,  -3.98181106e-01,  -3.18408515e-01, ...,\n",
      "         -4.83865990e-03,   0.00000000e+00,  -1.64440483e+00]])})\n"
     ]
    }
   ],
   "source": [
    "gs = get_grid_search_cv_logit(X=X_no_caterories_bag_words_scalled)"
   ]
  },
  {
   "cell_type": "code",
   "execution_count": 53,
   "metadata": {
    "collapsed": false
   },
   "outputs": [
    {
     "name": "stdout",
     "output_type": "stream",
     "text": [
      "Best params is {'C': 0.01}\n",
      "Best score is 0.751970490091\n"
     ]
    }
   ],
   "source": [
    "print(\"Best params is {}\".format(gs.best_params_))\n",
    "print(\"Best score is {}\".format(gs.best_score_))"
   ]
  },
  {
   "cell_type": "code",
   "execution_count": 54,
   "metadata": {
    "collapsed": false
   },
   "outputs": [
    {
     "name": "stdout",
     "output_type": "stream",
     "text": [
      "Execution time of get_scores_by_n_estimators_for_logit is 0:00:11.045626 (args: (), kwargs: {'X': array([[ -2.54436416e+00,   1.40080818e+00,   1.52597175e+00, ...,\n",
      "         -4.83865990e-03,   0.00000000e+00,   8.46061344e-04],\n",
      "       [ -2.54045236e+00,   5.01313538e-01,  -8.01392943e-02, ...,\n",
      "         -4.83865990e-03,   0.00000000e+00,   8.46061344e-04],\n",
      "       [ -2.53923104e+00,   5.01313538e-01,   1.51070097e-01, ...,\n",
      "         -4.83865990e-03,   0.00000000e+00,   8.46061344e-04],\n",
      "       ..., \n",
      "       [  1.09874571e+00,   5.01313538e-01,   2.92266672e-01, ...,\n",
      "         -4.83865990e-03,   0.00000000e+00,   1.64609695e+00],\n",
      "       [  1.09895204e+00,  -3.98181106e-01,  -1.73682025e-01, ...,\n",
      "         -4.83865990e-03,   0.00000000e+00,   8.46061344e-04],\n",
      "       [  1.10264790e+00,  -3.98181106e-01,  -3.18408515e-01, ...,\n",
      "         -4.83865990e-03,   0.00000000e+00,  -1.64440483e+00]]), 'C': 0.01})\n"
     ]
    },
    {
     "data": {
      "text/plain": [
       "0.75197049009143802"
      ]
     },
     "execution_count": 54,
     "metadata": {},
     "output_type": "execute_result"
    }
   ],
   "source": [
    "get_scores_by_n_estimators_for_logit(X=X_no_caterories_bag_words_scalled, **gs.best_params_)"
   ]
  },
  {
   "cell_type": "code",
   "execution_count": 69,
   "metadata": {
    "collapsed": false
   },
   "outputs": [
    {
     "data": {
      "text/plain": [
       "LogisticRegression(C=0.01, class_weight=None, dual=False, fit_intercept=True,\n",
       "          intercept_scaling=1, max_iter=100, multi_class='ovr', n_jobs=-1,\n",
       "          penalty='l2', random_state=241, solver='liblinear', tol=0.0001,\n",
       "          verbose=0, warm_start=False)"
      ]
     },
     "execution_count": 69,
     "metadata": {},
     "output_type": "execute_result"
    }
   ],
   "source": [
    "features_test = pandas.read_csv('./features_test.csv', index_col='match_id')\n",
    "\n",
    "X_test = features_test.fillna(0)\n",
    "\n",
    "clf = LogisticRegression(penalty='l2', random_state=241, n_jobs=-1, **gs.best_params_)\n",
    "clf.fit(X_no_caterories_bag_words_scalled, y)"
   ]
  },
  {
   "cell_type": "code",
   "execution_count": 64,
   "metadata": {
    "collapsed": false
   },
   "outputs": [],
   "source": [
    "from scipy.sparse import hstack\n",
    "\n",
    "def get_bag_of_words(X, all_heroes):\n",
    "    X_pick = np.zeros((X.shape[0], max(all_heroes)))\n",
    "\n",
    "    for i, match_id in enumerate(X.index):\n",
    "        for p in xrange(5):\n",
    "            X_pick[i, X.ix[match_id, 'r%d_hero' % (p+1)]-1] = 1\n",
    "            X_pick[i, X.ix[match_id, 'd%d_hero' % (p+1)]-1] = -1\n",
    "            \n",
    "    return X_pick\n",
    "\n",
    "X_pick = get_bag_of_words(X=X_test, all_heroes=all_heroes)\n",
    "\n",
    "X_test_no_caterories = X_test.drop(category_columns, axis=1)\n",
    "X_test_no_caterories_bag_words = hstack([X_test_no_caterories, X_pick]).toarray()\n",
    "X_test_no_caterories_bag_words_scalled = StandardScaler().fit_transform(X_test_no_caterories_bag_words)"
   ]
  },
  {
   "cell_type": "code",
   "execution_count": 77,
   "metadata": {
    "collapsed": false
   },
   "outputs": [
    {
     "data": {
      "text/plain": [
       "array([ 0.39716596,  0.60283404])"
      ]
     },
     "execution_count": 77,
     "metadata": {},
     "output_type": "execute_result"
    }
   ],
   "source": [
    "clf.predict_proba(X_no_caterories_bag_words_scalled)[2]"
   ]
  },
  {
   "cell_type": "code",
   "execution_count": 85,
   "metadata": {
    "collapsed": false
   },
   "outputs": [],
   "source": [
    "pred = clf.predict_proba(X_test_no_caterories_bag_words_scalled)[:, 1]"
   ]
  },
  {
   "cell_type": "code",
   "execution_count": 100,
   "metadata": {
    "collapsed": false
   },
   "outputs": [
    {
     "data": {
      "text/html": [
       "<div>\n",
       "<table border=\"1\" class=\"dataframe\">\n",
       "  <thead>\n",
       "    <tr style=\"text-align: right;\">\n",
       "      <th></th>\n",
       "      <th>radiant_win</th>\n",
       "    </tr>\n",
       "    <tr>\n",
       "      <th>match_id</th>\n",
       "      <th></th>\n",
       "    </tr>\n",
       "  </thead>\n",
       "  <tbody>\n",
       "    <tr>\n",
       "      <th>6</th>\n",
       "      <td>0.822689</td>\n",
       "    </tr>\n",
       "    <tr>\n",
       "      <th>7</th>\n",
       "      <td>0.756018</td>\n",
       "    </tr>\n",
       "    <tr>\n",
       "      <th>10</th>\n",
       "      <td>0.188658</td>\n",
       "    </tr>\n",
       "    <tr>\n",
       "      <th>13</th>\n",
       "      <td>0.856746</td>\n",
       "    </tr>\n",
       "    <tr>\n",
       "      <th>16</th>\n",
       "      <td>0.241456</td>\n",
       "    </tr>\n",
       "    <tr>\n",
       "      <th>18</th>\n",
       "      <td>0.380308</td>\n",
       "    </tr>\n",
       "    <tr>\n",
       "      <th>19</th>\n",
       "      <td>0.527367</td>\n",
       "    </tr>\n",
       "    <tr>\n",
       "      <th>24</th>\n",
       "      <td>0.562729</td>\n",
       "    </tr>\n",
       "    <tr>\n",
       "      <th>33</th>\n",
       "      <td>0.215821</td>\n",
       "    </tr>\n",
       "    <tr>\n",
       "      <th>37</th>\n",
       "      <td>0.674421</td>\n",
       "    </tr>\n",
       "    <tr>\n",
       "      <th>41</th>\n",
       "      <td>0.156811</td>\n",
       "    </tr>\n",
       "    <tr>\n",
       "      <th>42</th>\n",
       "      <td>0.325901</td>\n",
       "    </tr>\n",
       "    <tr>\n",
       "      <th>55</th>\n",
       "      <td>0.235520</td>\n",
       "    </tr>\n",
       "    <tr>\n",
       "      <th>60</th>\n",
       "      <td>0.674549</td>\n",
       "    </tr>\n",
       "    <tr>\n",
       "      <th>62</th>\n",
       "      <td>0.551814</td>\n",
       "    </tr>\n",
       "    <tr>\n",
       "      <th>63</th>\n",
       "      <td>0.612574</td>\n",
       "    </tr>\n",
       "    <tr>\n",
       "      <th>64</th>\n",
       "      <td>0.089407</td>\n",
       "    </tr>\n",
       "    <tr>\n",
       "      <th>71</th>\n",
       "      <td>0.553214</td>\n",
       "    </tr>\n",
       "    <tr>\n",
       "      <th>72</th>\n",
       "      <td>0.318330</td>\n",
       "    </tr>\n",
       "    <tr>\n",
       "      <th>83</th>\n",
       "      <td>0.505343</td>\n",
       "    </tr>\n",
       "    <tr>\n",
       "      <th>85</th>\n",
       "      <td>0.779541</td>\n",
       "    </tr>\n",
       "    <tr>\n",
       "      <th>89</th>\n",
       "      <td>0.930822</td>\n",
       "    </tr>\n",
       "    <tr>\n",
       "      <th>92</th>\n",
       "      <td>0.753968</td>\n",
       "    </tr>\n",
       "    <tr>\n",
       "      <th>100</th>\n",
       "      <td>0.959051</td>\n",
       "    </tr>\n",
       "    <tr>\n",
       "      <th>102</th>\n",
       "      <td>0.885660</td>\n",
       "    </tr>\n",
       "    <tr>\n",
       "      <th>108</th>\n",
       "      <td>0.536546</td>\n",
       "    </tr>\n",
       "    <tr>\n",
       "      <th>111</th>\n",
       "      <td>0.775287</td>\n",
       "    </tr>\n",
       "    <tr>\n",
       "      <th>126</th>\n",
       "      <td>0.188046</td>\n",
       "    </tr>\n",
       "    <tr>\n",
       "      <th>130</th>\n",
       "      <td>0.053575</td>\n",
       "    </tr>\n",
       "    <tr>\n",
       "      <th>140</th>\n",
       "      <td>0.789910</td>\n",
       "    </tr>\n",
       "    <tr>\n",
       "      <th>...</th>\n",
       "      <td>...</td>\n",
       "    </tr>\n",
       "    <tr>\n",
       "      <th>114165</th>\n",
       "      <td>0.814753</td>\n",
       "    </tr>\n",
       "    <tr>\n",
       "      <th>114168</th>\n",
       "      <td>0.666731</td>\n",
       "    </tr>\n",
       "    <tr>\n",
       "      <th>114171</th>\n",
       "      <td>0.465892</td>\n",
       "    </tr>\n",
       "    <tr>\n",
       "      <th>114183</th>\n",
       "      <td>0.147471</td>\n",
       "    </tr>\n",
       "    <tr>\n",
       "      <th>114188</th>\n",
       "      <td>0.629005</td>\n",
       "    </tr>\n",
       "    <tr>\n",
       "      <th>114192</th>\n",
       "      <td>0.845716</td>\n",
       "    </tr>\n",
       "    <tr>\n",
       "      <th>114195</th>\n",
       "      <td>0.516791</td>\n",
       "    </tr>\n",
       "    <tr>\n",
       "      <th>114202</th>\n",
       "      <td>0.480683</td>\n",
       "    </tr>\n",
       "    <tr>\n",
       "      <th>114209</th>\n",
       "      <td>0.386658</td>\n",
       "    </tr>\n",
       "    <tr>\n",
       "      <th>114211</th>\n",
       "      <td>0.806971</td>\n",
       "    </tr>\n",
       "    <tr>\n",
       "      <th>114217</th>\n",
       "      <td>0.752264</td>\n",
       "    </tr>\n",
       "    <tr>\n",
       "      <th>114232</th>\n",
       "      <td>0.389547</td>\n",
       "    </tr>\n",
       "    <tr>\n",
       "      <th>114236</th>\n",
       "      <td>0.502872</td>\n",
       "    </tr>\n",
       "    <tr>\n",
       "      <th>114238</th>\n",
       "      <td>0.665332</td>\n",
       "    </tr>\n",
       "    <tr>\n",
       "      <th>114242</th>\n",
       "      <td>0.580872</td>\n",
       "    </tr>\n",
       "    <tr>\n",
       "      <th>114247</th>\n",
       "      <td>0.289192</td>\n",
       "    </tr>\n",
       "    <tr>\n",
       "      <th>114285</th>\n",
       "      <td>0.258456</td>\n",
       "    </tr>\n",
       "    <tr>\n",
       "      <th>114286</th>\n",
       "      <td>0.411215</td>\n",
       "    </tr>\n",
       "    <tr>\n",
       "      <th>114314</th>\n",
       "      <td>0.537066</td>\n",
       "    </tr>\n",
       "    <tr>\n",
       "      <th>114327</th>\n",
       "      <td>0.480755</td>\n",
       "    </tr>\n",
       "    <tr>\n",
       "      <th>114330</th>\n",
       "      <td>0.412174</td>\n",
       "    </tr>\n",
       "    <tr>\n",
       "      <th>114337</th>\n",
       "      <td>0.337954</td>\n",
       "    </tr>\n",
       "    <tr>\n",
       "      <th>114348</th>\n",
       "      <td>0.176002</td>\n",
       "    </tr>\n",
       "    <tr>\n",
       "      <th>114349</th>\n",
       "      <td>0.599800</td>\n",
       "    </tr>\n",
       "    <tr>\n",
       "      <th>114361</th>\n",
       "      <td>0.315632</td>\n",
       "    </tr>\n",
       "    <tr>\n",
       "      <th>114369</th>\n",
       "      <td>0.718821</td>\n",
       "    </tr>\n",
       "    <tr>\n",
       "      <th>114377</th>\n",
       "      <td>0.631443</td>\n",
       "    </tr>\n",
       "    <tr>\n",
       "      <th>114378</th>\n",
       "      <td>0.233771</td>\n",
       "    </tr>\n",
       "    <tr>\n",
       "      <th>114393</th>\n",
       "      <td>0.631057</td>\n",
       "    </tr>\n",
       "    <tr>\n",
       "      <th>114398</th>\n",
       "      <td>0.429138</td>\n",
       "    </tr>\n",
       "  </tbody>\n",
       "</table>\n",
       "<p>17177 rows × 1 columns</p>\n",
       "</div>"
      ],
      "text/plain": [
       "          radiant_win\n",
       "match_id             \n",
       "6            0.822689\n",
       "7            0.756018\n",
       "10           0.188658\n",
       "13           0.856746\n",
       "16           0.241456\n",
       "18           0.380308\n",
       "19           0.527367\n",
       "24           0.562729\n",
       "33           0.215821\n",
       "37           0.674421\n",
       "41           0.156811\n",
       "42           0.325901\n",
       "55           0.235520\n",
       "60           0.674549\n",
       "62           0.551814\n",
       "63           0.612574\n",
       "64           0.089407\n",
       "71           0.553214\n",
       "72           0.318330\n",
       "83           0.505343\n",
       "85           0.779541\n",
       "89           0.930822\n",
       "92           0.753968\n",
       "100          0.959051\n",
       "102          0.885660\n",
       "108          0.536546\n",
       "111          0.775287\n",
       "126          0.188046\n",
       "130          0.053575\n",
       "140          0.789910\n",
       "...               ...\n",
       "114165       0.814753\n",
       "114168       0.666731\n",
       "114171       0.465892\n",
       "114183       0.147471\n",
       "114188       0.629005\n",
       "114192       0.845716\n",
       "114195       0.516791\n",
       "114202       0.480683\n",
       "114209       0.386658\n",
       "114211       0.806971\n",
       "114217       0.752264\n",
       "114232       0.389547\n",
       "114236       0.502872\n",
       "114238       0.665332\n",
       "114242       0.580872\n",
       "114247       0.289192\n",
       "114285       0.258456\n",
       "114286       0.411215\n",
       "114314       0.537066\n",
       "114327       0.480755\n",
       "114330       0.412174\n",
       "114337       0.337954\n",
       "114348       0.176002\n",
       "114349       0.599800\n",
       "114361       0.315632\n",
       "114369       0.718821\n",
       "114377       0.631443\n",
       "114378       0.233771\n",
       "114393       0.631057\n",
       "114398       0.429138\n",
       "\n",
       "[17177 rows x 1 columns]"
      ]
     },
     "execution_count": 100,
     "metadata": {},
     "output_type": "execute_result"
    }
   ],
   "source": [
    "raw_data = {\n",
    "    'match_id': X_test.index, \n",
    "    'radiant_win': pred\n",
    "}\n",
    "\n",
    "result_df = pandas.DataFrame.from_dict(raw_data)\n",
    "result_df.set_index('match_id')"
   ]
  },
  {
   "cell_type": "code",
   "execution_count": 103,
   "metadata": {
    "collapsed": true
   },
   "outputs": [],
   "source": [
    "result_df.to_csv('result.csv', index=False, columns=['match_id', 'radiant_win'])"
   ]
  },
  {
   "cell_type": "code",
   "execution_count": 105,
   "metadata": {
    "collapsed": false
   },
   "outputs": [
    {
     "name": "stdout",
     "output_type": "stream",
     "text": [
      "Минимальное значение прогноза: 0.00870590076923\n",
      "Максимальное значение прогноза: 0.996328715925\n"
     ]
    }
   ],
   "source": [
    "print(u\"Минимальное значение прогноза: {}\".format(min(pred)))\n",
    "print(u\"Максимальное значение прогноза: {}\".format(max(pred)))"
   ]
  },
  {
   "cell_type": "code",
   "execution_count": null,
   "metadata": {
    "collapsed": true
   },
   "outputs": [],
   "source": []
  },
  {
   "cell_type": "code",
   "execution_count": null,
   "metadata": {
    "collapsed": true
   },
   "outputs": [],
   "source": []
  }
 ],
 "metadata": {
  "kernelspec": {
   "display_name": "Python 2",
   "language": "python",
   "name": "python2"
  },
  "language_info": {
   "codemirror_mode": {
    "name": "ipython",
    "version": 2
   },
   "file_extension": ".py",
   "mimetype": "text/x-python",
   "name": "python",
   "nbconvert_exporter": "python",
   "pygments_lexer": "ipython2",
   "version": "2.7.6"
  }
 },
 "nbformat": 4,
 "nbformat_minor": 0
}
