{
 "cells": [
  {
   "cell_type": "code",
   "execution_count": 1,
   "metadata": {
    "collapsed": true
   },
   "outputs": [],
   "source": [
    "import time\n",
    "import datetime\n",
    "\n",
    "import pandas\n",
    "import numpy as np\n",
    "from sklearn.ensemble import GradientBoostingClassifier\n",
    "from sklearn.cross_validation import KFold, cross_val_score\n",
    "from sklearn.grid_search import GridSearchCV\n",
    "from sklearn.preprocessing import StandardScaler\n",
    "from scipy.sparse import hstack\n",
    "from sklearn.linear_model import LogisticRegression\n",
    "\n",
    "\n",
    "# декоратор для удобства показа времени выполнения функции\n",
    "def print_exec_time(func):\n",
    "    def wrapper(*args, **kwargs):\n",
    "        start_time = datetime.datetime.now()\n",
    "        return_value = func(*args, **kwargs)\n",
    "        end_time = datetime.datetime.now()\n",
    "        print(u\"Execution time of {} is {} (args: {}, kwargs: {})\".format(\n",
    "            func.__name__, end_time - start_time, args, kwargs)\n",
    "        )\n",
    "        \n",
    "        return return_value\n",
    "\n",
    "    return wrapper\n",
    "\n",
    "features = pandas.read_csv('./features.csv', index_col='match_id')\n",
    "features_test = pandas.read_csv('./features_test.csv', index_col='match_id')\n",
    "\n",
    "match_result_columns = [\n",
    "    'duration',\n",
    "    'radiant_win',\n",
    "    'tower_status_radiant',\n",
    "    'tower_status_dire',\n",
    "    'barracks_status_radiant',\n",
    "    'barracks_status_dire'\n",
    "]\n",
    "\n",
    "# Удалите признаки, связанные с итогами матча\n",
    "match_result_data = features[match_result_columns]\n",
    "y = match_result_data['radiant_win']\n",
    "\n",
    "match_progress_data = features.drop(match_result_columns, axis=1)"
   ]
  },
  {
   "cell_type": "code",
   "execution_count": 2,
   "metadata": {
    "collapsed": false
   },
   "outputs": [
    {
     "name": "stdout",
     "output_type": "stream",
     "text": [
      "first_blood_time               77677\n",
      "first_blood_team               77677\n",
      "first_blood_player1            77677\n",
      "first_blood_player2            53243\n",
      "radiant_bottle_time            81539\n",
      "radiant_courier_time           96538\n",
      "radiant_flying_courier_time    69751\n",
      "radiant_first_ward_time        95394\n",
      "dire_bottle_time               81087\n",
      "dire_courier_time              96554\n",
      "dire_flying_courier_time       71132\n",
      "dire_first_ward_time           95404\n",
      "dtype: int64\n",
      "\n",
      "Вопрос: Много ли пропусков в данных?\n",
      "Ответ: из 102 признаков, частично заполнены 12\n",
      "\n",
      "Вопрос: Запишите названия признаков, имеющих пропуски, и попробуйте для любых двух из них датьобоснование, почему их значения могут быть пропущены.\n",
      "Ответ: Список названий признаков, имеющих пропуски:\n",
      "first_blood_time, first_blood_team, first_blood_player1, first_blood_player2, radiant_bottle_time, radiant_courier_time, radiant_flying_courier_time, radiant_first_ward_time, dire_bottle_time, dire_courier_time, dire_flying_courier_time, dire_first_ward_time\n",
      "\n",
      "Основание пропусков для признаков:\n",
      "* first_blood_time: игровое время первой крови\n",
      "* first_blood_team: команда, совершившая первую кровь (0 — Radiant, 1 — Dire)\n",
      "* first_blood_player1: игрок, причастный к событию\n",
      "* first_blood_player2: второй игрок, причастный к событию\n",
      "\n",
      "Понятно из описания задачи: \"Если событие \"первая кровь\" не успело произойти за первые 5 минут, \n",
      "то признаки принимают пропущенное значение\"\n",
      "\n",
      "Признаки:\n",
      "* radiant_bottle_time\n",
      "* radiant_courier_time\n",
      "* radiant_flying_courier_time\n",
      "* radiant_first_ward_time\n",
      "* dire_bottle_time\n",
      "* dire_courier_time\n",
      "* dire_flying_courier_time\n",
      "* dire_first_ward_time\n",
      "\n",
      "описывают время наступления некоторого необязательного события игры. Судя по всему - в некоторых матчах данное\n",
      "событие не наступило в первые 5 минут матча.\n",
      "\n"
     ]
    }
   ],
   "source": [
    "progress_count = match_progress_data.count()\n",
    "\n",
    "partial_columns_info = progress_count[progress_count != progress_count.max()]\n",
    "print(partial_columns_info)\n",
    "\n",
    "print(u\"\\nВопрос: Много ли пропусков в данных?\")\n",
    "print(u\"Ответ: из {} признаков, частично заполнены {}\".format(len(progress_count), len(partial_columns_info)))\n",
    "\n",
    "print(u\"\\nВопрос: Запишите названия признаков, имеющих пропуски, и попробуйте для любых двух из них дать\" \n",
    "      u\"обоснование, почему их значения могут быть пропущены.\")\n",
    "print(u\"Ответ: Список названий признаков, имеющих пропуски:\")\n",
    "print(\", \".join([key for key in partial_columns_info.keys()]))\n",
    "\n",
    "print(u\"\"\"\n",
    "Основание пропусков для признаков:\n",
    "* first_blood_time: игровое время первой крови\n",
    "* first_blood_team: команда, совершившая первую кровь (0 — Radiant, 1 — Dire)\n",
    "* first_blood_player1: игрок, причастный к событию\n",
    "* first_blood_player2: второй игрок, причастный к событию\n",
    "\n",
    "Понятно из описания задачи: \"Если событие \"первая кровь\" не успело произойти за первые 5 минут, \n",
    "то признаки принимают пропущенное значение\"\n",
    "\n",
    "Признаки:\n",
    "* radiant_bottle_time\n",
    "* radiant_courier_time\n",
    "* radiant_flying_courier_time\n",
    "* radiant_first_ward_time\n",
    "* dire_bottle_time\n",
    "* dire_courier_time\n",
    "* dire_flying_courier_time\n",
    "* dire_first_ward_time\n",
    "\n",
    "описывают время наступления некоторого необязательного события игры. Судя по всему - в некоторых матчах данное\n",
    "событие не наступило в первые 5 минут матча.\n",
    "\"\"\")"
   ]
  },
  {
   "cell_type": "code",
   "execution_count": 3,
   "metadata": {
    "collapsed": true
   },
   "outputs": [],
   "source": [
    "# Замените пропуски на нули с помощью функции fillna()\n",
    "X = match_progress_data.fillna(0)\n",
    "X_test = features_test.fillna(0)"
   ]
  },
  {
   "cell_type": "code",
   "execution_count": 4,
   "metadata": {
    "collapsed": false
   },
   "outputs": [
    {
     "name": "stdout",
     "output_type": "stream",
     "text": [
      "Вопрос: Какой столбец содержит целевую переменную? Запишите его название.\n",
      "Ответ: radiant_win (1, если победила команда Radiant, 0 — иначе)\n"
     ]
    }
   ],
   "source": [
    "print(u\"Вопрос: Какой столбец содержит целевую переменную? Запишите его название.\")\n",
    "print(u\"Ответ: radiant_win (1, если победила команда Radiant, 0 — иначе)\")"
   ]
  },
  {
   "cell_type": "code",
   "execution_count": 7,
   "metadata": {
    "collapsed": true
   },
   "outputs": [],
   "source": [
    "@print_exec_time\n",
    "def get_scores_boosting_by_n_estimators(n_estimators, learning_rate=0.1, max_depth=3, subsample=1.0):\n",
    "    clf = GradientBoostingClassifier(\n",
    "        n_estimators=n_estimators,\n",
    "        random_state=1,\n",
    "        learning_rate=learning_rate,\n",
    "        max_depth=max_depth,\n",
    "        subsample=subsample\n",
    "    )\n",
    "\n",
    "    k_fold = KFold(len(y), n_folds=5, random_state=1, shuffle=True)\n",
    "    scores = cross_val_score(clf, X, y, cv=k_fold, scoring='roc_auc', n_jobs=-1)\n",
    "    return scores.mean()"
   ]
  },
  {
   "cell_type": "code",
   "execution_count": 8,
   "metadata": {
    "collapsed": false
   },
   "outputs": [
    {
     "name": "stdout",
     "output_type": "stream",
     "text": [
      "Execution time of get_scores_boosting_by_n_estimators is 0:00:14.939188 (args: (), kwargs: {'n_estimators': 10})\n",
      "Execution time of get_scores_boosting_by_n_estimators is 0:00:27.793230 (args: (), kwargs: {'n_estimators': 20})\n",
      "Execution time of get_scores_boosting_by_n_estimators is 0:00:42.067503 (args: (), kwargs: {'n_estimators': 30})\n",
      "Execution time of get_scores_boosting_by_n_estimators is 0:02:20.210992 (args: (), kwargs: {'n_estimators': 100})\n",
      "Execution time of get_scores_boosting_by_n_estimators is 0:04:39.206632 (args: (), kwargs: {'n_estimators': 200})\n",
      "[(10, 0.66483292280517681), (20, 0.68211403588942632), (30, 0.68969475738443753), (100, 0.7062113460528423), (200, 0.71345572174502792)]\n"
     ]
    }
   ],
   "source": [
    "all_scores_boosting = list()\n",
    "for n_estimators in [10, 20, 30, 100, 200]:\n",
    "    all_scores_boosting.append((n_estimators, get_scores_boosting_by_n_estimators(n_estimators=n_estimators)))\n",
    "print(all_scores_boosting)"
   ]
  },
  {
   "cell_type": "code",
   "execution_count": 19,
   "metadata": {
    "collapsed": false
   },
   "outputs": [
    {
     "name": "stdout",
     "output_type": "stream",
     "text": [
      "Execution time of get_scores_boosting_by_n_estimators is 0:11:49.421015 (args: (), kwargs: {'n_estimators': 500})\n"
     ]
    },
    {
     "data": {
      "text/plain": [
       "0.72044154375617553"
      ]
     },
     "execution_count": 19,
     "metadata": {},
     "output_type": "execute_result"
    }
   ],
   "source": [
    "get_scores_boosting_by_n_estimators(n_estimators=500)"
   ]
  },
  {
   "cell_type": "code",
   "execution_count": 9,
   "metadata": {
    "collapsed": true
   },
   "outputs": [],
   "source": [
    "@print_exec_time\n",
    "def get_scores_by_n_estimators_for_logit(X, C=0.1):\n",
    "    clf = LogisticRegression(penalty='l2', random_state=241, C=C)\n",
    "\n",
    "    k_fold = KFold(len(y), n_folds=5, random_state=241, shuffle=True)\n",
    "    scores = cross_val_score(clf, X, y, cv=k_fold, scoring='roc_auc', n_jobs=-1)\n",
    "    return scores.mean()\n",
    "\n",
    "@print_exec_time\n",
    "def get_grid_search_cv_logit(X):\n",
    "    grid = {'C': np.power(10.0, np.arange(-5, 6))}\n",
    "    cv = KFold(len(y), n_folds=5, shuffle=True, random_state=241)\n",
    "    clf = LogisticRegression(penalty='l2', random_state=241)\n",
    "    gs = GridSearchCV(clf, grid, scoring='roc_auc', cv=cv, n_jobs=-1)\n",
    "    gs.fit(X, y)\n",
    "    return gs\n",
    "\n",
    "def get_bag_of_words(X, all_heroes):\n",
    "    X_pick = np.zeros((X.shape[0], max(all_heroes)))\n",
    "\n",
    "    for i, match_id in enumerate(X.index):\n",
    "        for p in xrange(5):\n",
    "            X_pick[i, X.ix[match_id, 'r%d_hero' % (p+1)]-1] = 1\n",
    "            X_pick[i, X.ix[match_id, 'd%d_hero' % (p+1)]-1] = -1\n",
    "            \n",
    "    return X_pick"
   ]
  },
  {
   "cell_type": "code",
   "execution_count": 11,
   "metadata": {
    "collapsed": true
   },
   "outputs": [],
   "source": [
    "X_scalled = StandardScaler().fit_transform(X)"
   ]
  },
  {
   "cell_type": "code",
   "execution_count": 12,
   "metadata": {
    "collapsed": false
   },
   "outputs": [
    {
     "name": "stdout",
     "output_type": "stream",
     "text": [
      "Execution time of get_grid_search_cv_logit is 0:00:54.527142 (args: (array([[-2.54436416,  1.54068827, -1.24422828, ..., -0.55115386,\n",
      "         1.84600409, -1.12149424],\n",
      "       [-2.54045236, -0.92779756, -0.29225805, ...,  0.67817009,\n",
      "         0.43778816,  0.04394713],\n",
      "       [-2.53923104,  1.54068827, -0.5686365 , ...,  0.67817009,\n",
      "         0.43778816,  0.49028637],\n",
      "       ..., \n",
      "       [ 1.09874571, -0.57515673,  1.42743012, ...,  0.67817009,\n",
      "         0.43778816, -0.20401912],\n",
      "       [ 1.09895204, -0.57515673,  1.48884755, ...,  0.67817009,\n",
      "         0.43778816, -0.87352799],\n",
      "       [ 1.1026479 ,  1.54068827, -0.04658831, ..., -0.55115386,\n",
      "        -0.97042777, -0.79913812]]),), kwargs: {})\n",
      "Вопрос: Какое качество получилось у логистической регрессии над всеми исходными признаками?\n",
      "Execution time of get_scores_by_n_estimators_for_logit is 0:00:05.923309 (args: (), kwargs: {'X': array([[-2.54436416,  1.54068827, -1.24422828, ..., -0.55115386,\n",
      "         1.84600409, -1.12149424],\n",
      "       [-2.54045236, -0.92779756, -0.29225805, ...,  0.67817009,\n",
      "         0.43778816,  0.04394713],\n",
      "       [-2.53923104,  1.54068827, -0.5686365 , ...,  0.67817009,\n",
      "         0.43778816,  0.49028637],\n",
      "       ..., \n",
      "       [ 1.09874571, -0.57515673,  1.42743012, ...,  0.67817009,\n",
      "         0.43778816, -0.20401912],\n",
      "       [ 1.09895204, -0.57515673,  1.48884755, ...,  0.67817009,\n",
      "         0.43778816, -0.87352799],\n",
      "       [ 1.1026479 ,  1.54068827, -0.04658831, ..., -0.55115386,\n",
      "        -0.97042777, -0.79913812]]), 'C': 0.01})\n",
      "Ответ: 0.716341465365\n"
     ]
    }
   ],
   "source": [
    "gs = get_grid_search_cv_logit(X_scalled)\n",
    "print(u\"Вопрос: Какое качество получилось у логистической регрессии над всеми исходными признаками?\")\n",
    "print(u\"Ответ: {}\".format(get_scores_by_n_estimators_for_logit(X=X_scalled, **gs.best_params_)))"
   ]
  },
  {
   "cell_type": "code",
   "execution_count": 13,
   "metadata": {
    "collapsed": true
   },
   "outputs": [],
   "source": [
    "hero_columns = [\n",
    "    'r1_hero',\n",
    "    'r2_hero',\n",
    "    'r3_hero',\n",
    "    'r4_hero',\n",
    "    'r5_hero',\n",
    "    'd1_hero',\n",
    "    'd2_hero',\n",
    "    'd3_hero',\n",
    "    'd4_hero',\n",
    "    'd5_hero',\n",
    "]\n",
    "\n",
    "category_columns = hero_columns + ['lobby_type']\n",
    "\n",
    "X_no_caterories = X.drop(category_columns, axis=1)\n",
    "X_test_no_caterories = X_test.drop(category_columns, axis=1)\n",
    "\n",
    "X_no_caterories_scalled = StandardScaler().fit_transform(X_no_caterories)"
   ]
  },
  {
   "cell_type": "code",
   "execution_count": 15,
   "metadata": {
    "collapsed": false
   },
   "outputs": [
    {
     "name": "stdout",
     "output_type": "stream",
     "text": [
      "Execution time of get_grid_search_cv_logit is 0:00:49.918047 (args: (array([[-2.54436416,  1.40080818,  1.52597175, ..., -0.55115386,\n",
      "         1.84600409, -1.12149424],\n",
      "       [-2.54045236,  0.50131354, -0.08013929, ...,  0.67817009,\n",
      "         0.43778816,  0.04394713],\n",
      "       [-2.53923104,  0.50131354,  0.1510701 , ...,  0.67817009,\n",
      "         0.43778816,  0.49028637],\n",
      "       ..., \n",
      "       [ 1.09874571,  0.50131354,  0.29226667, ...,  0.67817009,\n",
      "         0.43778816, -0.20401912],\n",
      "       [ 1.09895204, -0.39818111, -0.17368203, ...,  0.67817009,\n",
      "         0.43778816, -0.87352799],\n",
      "       [ 1.1026479 , -0.39818111, -0.31840851, ..., -0.55115386,\n",
      "        -0.97042777, -0.79913812]]),), kwargs: {})\n",
      "Как влияет на качество логистической регрессии удаление категориальныхпризнаков (укажите новое значение метрики качества)?\n",
      "Execution time of get_scores_by_n_estimators_for_logit is 0:00:05.314023 (args: (), kwargs: {'X': array([[-2.54436416,  1.40080818,  1.52597175, ..., -0.55115386,\n",
      "         1.84600409, -1.12149424],\n",
      "       [-2.54045236,  0.50131354, -0.08013929, ...,  0.67817009,\n",
      "         0.43778816,  0.04394713],\n",
      "       [-2.53923104,  0.50131354,  0.1510701 , ...,  0.67817009,\n",
      "         0.43778816,  0.49028637],\n",
      "       ..., \n",
      "       [ 1.09874571,  0.50131354,  0.29226667, ...,  0.67817009,\n",
      "         0.43778816, -0.20401912],\n",
      "       [ 1.09895204, -0.39818111, -0.17368203, ...,  0.67817009,\n",
      "         0.43778816, -0.87352799],\n",
      "       [ 1.1026479 , -0.39818111, -0.31840851, ..., -0.55115386,\n",
      "        -0.97042777, -0.79913812]]), 'C': 0.01})\n",
      "Ответ: 0.716400950653\n"
     ]
    }
   ],
   "source": [
    "gs = get_grid_search_cv_logit(X_no_caterories_scalled)\n",
    "print(u\"Как влияет на качество логистической регрессии удаление категориальных \" \n",
    "      u\"признаков (укажите новое значение метрики качества)?\")\n",
    "print(u\"Ответ: {}\".format(get_scores_by_n_estimators_for_logit(X=X_no_caterories_scalled, **gs.best_params_)))"
   ]
  },
  {
   "cell_type": "code",
   "execution_count": 20,
   "metadata": {
    "collapsed": false
   },
   "outputs": [
    {
     "name": "stdout",
     "output_type": "stream",
     "text": [
      "В игре учавствовало 108 героев\n"
     ]
    }
   ],
   "source": [
    "all_heroes = np.unique(X[hero_columns])\n",
    "\n",
    "print(u\"В игре учавствовало {} героев\".format(len(all_heroes)))\n",
    "\n",
    "X_pick = get_bag_of_words(X=X, all_heroes=all_heroes)\n",
    "X_no_caterories_bag_words = hstack([X_no_caterories, X_pick]).toarray()\n",
    "X_no_caterories_bag_words_scalled = StandardScaler().fit_transform(X_no_caterories_bag_words)\n",
    "\n",
    "X_test_pick = get_bag_of_words(X=X_test, all_heroes=all_heroes)\n",
    "X_test_no_caterories_bag_words = hstack([X_test_no_caterories, X_test_pick]).toarray()\n",
    "X_test_no_caterories_bag_words_scalled = StandardScaler().fit_transform(X_test_no_caterories_bag_words)"
   ]
  },
  {
   "cell_type": "code",
   "execution_count": 17,
   "metadata": {
    "collapsed": false
   },
   "outputs": [
    {
     "name": "stdout",
     "output_type": "stream",
     "text": [
      "Execution time of get_grid_search_cv_logit is 0:01:41.503237 (args: (array([[ -2.54436416e+00,   1.40080818e+00,   1.52597175e+00, ...,\n",
      "         -4.83865990e-03,   0.00000000e+00,   8.46061344e-04],\n",
      "       [ -2.54045236e+00,   5.01313538e-01,  -8.01392943e-02, ...,\n",
      "         -4.83865990e-03,   0.00000000e+00,   8.46061344e-04],\n",
      "       [ -2.53923104e+00,   5.01313538e-01,   1.51070097e-01, ...,\n",
      "         -4.83865990e-03,   0.00000000e+00,   8.46061344e-04],\n",
      "       ..., \n",
      "       [  1.09874571e+00,   5.01313538e-01,   2.92266672e-01, ...,\n",
      "         -4.83865990e-03,   0.00000000e+00,   1.64609695e+00],\n",
      "       [  1.09895204e+00,  -3.98181106e-01,  -1.73682025e-01, ...,\n",
      "         -4.83865990e-03,   0.00000000e+00,   8.46061344e-04],\n",
      "       [  1.10264790e+00,  -3.98181106e-01,  -3.18408515e-01, ...,\n",
      "         -4.83865990e-03,   0.00000000e+00,  -1.64440483e+00]]),), kwargs: {})\n",
      "Какое качество получилось у логистической регрессии с использованием 'мешка слов'\n",
      "Execution time of get_scores_by_n_estimators_for_logit is 0:00:10.569281 (args: (), kwargs: {'X': array([[ -2.54436416e+00,   1.40080818e+00,   1.52597175e+00, ...,\n",
      "         -4.83865990e-03,   0.00000000e+00,   8.46061344e-04],\n",
      "       [ -2.54045236e+00,   5.01313538e-01,  -8.01392943e-02, ...,\n",
      "         -4.83865990e-03,   0.00000000e+00,   8.46061344e-04],\n",
      "       [ -2.53923104e+00,   5.01313538e-01,   1.51070097e-01, ...,\n",
      "         -4.83865990e-03,   0.00000000e+00,   8.46061344e-04],\n",
      "       ..., \n",
      "       [  1.09874571e+00,   5.01313538e-01,   2.92266672e-01, ...,\n",
      "         -4.83865990e-03,   0.00000000e+00,   1.64609695e+00],\n",
      "       [  1.09895204e+00,  -3.98181106e-01,  -1.73682025e-01, ...,\n",
      "         -4.83865990e-03,   0.00000000e+00,   8.46061344e-04],\n",
      "       [  1.10264790e+00,  -3.98181106e-01,  -3.18408515e-01, ...,\n",
      "         -4.83865990e-03,   0.00000000e+00,  -1.64440483e+00]]), 'C': 0.01})\n",
      "Ответ: 0.751970490091\n"
     ]
    }
   ],
   "source": [
    "gs = get_grid_search_cv_logit(X_no_caterories_bag_words_scalled)\n",
    "print(u\"Какое качество получилось у логистической регрессии с использованием 'мешка слов'\")\n",
    "print(u\"Ответ: {}\".format(get_scores_by_n_estimators_for_logit(\n",
    "    X=X_no_caterories_bag_words_scalled, \n",
    "    **gs.best_params_\n",
    ")))"
   ]
  },
  {
   "cell_type": "code",
   "execution_count": 18,
   "metadata": {
    "collapsed": false
   },
   "outputs": [
    {
     "name": "stdout",
     "output_type": "stream",
     "text": [
      "Минимальное значение прогноза: 0.00870590076923\n",
      "Максимальное значение прогноза: 0.996328715925\n"
     ]
    }
   ],
   "source": [
    "clf = LogisticRegression(penalty='l2', random_state=241, n_jobs=-1, **gs.best_params_)\n",
    "clf.fit(X_no_caterories_bag_words_scalled, y)\n",
    "\n",
    "pred = clf.predict_proba(X_test_no_caterories_bag_words_scalled)[:, 1]\n",
    "\n",
    "raw_data = {\n",
    "    'match_id': X_test.index, \n",
    "    'radiant_win': pred\n",
    "}\n",
    "\n",
    "result_df = pandas.DataFrame.from_dict(raw_data)\n",
    "result_df.set_index('match_id')\n",
    "\n",
    "result_df.to_csv('result.csv', index=False, columns=['match_id', 'radiant_win'])\n",
    "\n",
    "print(u\"Минимальное значение прогноза: {}\".format(min(pred)))\n",
    "print(u\"Максимальное значение прогноза: {}\".format(max(pred)))"
   ]
  }
 ],
 "metadata": {
  "kernelspec": {
   "display_name": "Python 2",
   "language": "python",
   "name": "python2"
  },
  "language_info": {
   "codemirror_mode": {
    "name": "ipython",
    "version": 2
   },
   "file_extension": ".py",
   "mimetype": "text/x-python",
   "name": "python",
   "nbconvert_exporter": "python",
   "pygments_lexer": "ipython2",
   "version": "2.7.6"
  }
 },
 "nbformat": 4,
 "nbformat_minor": 0
}
