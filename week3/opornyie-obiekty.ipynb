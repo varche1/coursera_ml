{
 "cells": [
  {
   "cell_type": "code",
   "execution_count": 5,
   "metadata": {
    "collapsed": false
   },
   "outputs": [
    {
     "name": "stdout",
     "output_type": "stream",
     "text": [
      "[3 4 9]\n",
      "[[ 0.98  0.68]\n",
      " [ 0.48  0.39]\n",
      " [ 0.53  0.53]]\n"
     ]
    }
   ],
   "source": [
    "import pandas\n",
    "from sklearn.svm import SVC\n",
    "\n",
    "data = pandas.read_csv(filepath_or_buffer='svm-data.csv', header=None)\n",
    "\n",
    "Y = data[0]\n",
    "X = data.drop(0, axis=1)\n",
    "\n",
    "clf = SVC(C=100000, kernel='linear', random_state=241)\n",
    "clf.fit(X, Y)\n",
    "\n",
    "print(clf.support_)\n",
    "print(clf.support_vectors_)"
   ]
  }
 ],
 "metadata": {
  "kernelspec": {
   "display_name": "Python 2",
   "language": "python",
   "name": "python2"
  },
  "language_info": {
   "codemirror_mode": {
    "name": "ipython",
    "version": 2
   },
   "file_extension": ".py",
   "mimetype": "text/x-python",
   "name": "python",
   "nbconvert_exporter": "python",
   "pygments_lexer": "ipython2",
   "version": "2.7.6"
  }
 },
 "nbformat": 4,
 "nbformat_minor": 0
}
