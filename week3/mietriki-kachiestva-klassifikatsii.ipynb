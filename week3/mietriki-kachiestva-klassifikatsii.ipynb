{
 "cells": [
  {
   "cell_type": "code",
   "execution_count": 8,
   "metadata": {
    "collapsed": false
   },
   "outputs": [
    {
     "name": "stdout",
     "output_type": "stream",
     "text": [
      "43\n",
      "64\n",
      "59\n",
      "34\n"
     ]
    }
   ],
   "source": [
    "import pandas\n",
    "from sklearn.svm import SVC\n",
    "\n",
    "classification = pandas.read_csv(filepath_or_buffer='classification.csv')\n",
    "scores = pandas.read_csv(filepath_or_buffer='scores.csv')\n",
    "\n",
    "classification.true[0]\n",
    "\n",
    "TP = TN = FP = FN = 0\n",
    "\n",
    "for i in range(len(classification)):\n",
    "    if classification.true[i] == 1 and classification.pred[i] == 1:\n",
    "        TP += 1\n",
    "    elif classification.true[i] == 0 and classification.pred[i] == 0:\n",
    "        TN += 1\n",
    "    elif classification.true[i] == 1 and classification.pred[i] == 0:\n",
    "        FN += 1\n",
    "    elif classification.true[i] == 0 and classification.pred[i] == 1:\n",
    "        FP += 1\n",
    "\n",
    "print(TP)\n",
    "print(TN)\n",
    "print(FN)\n",
    "print(FP)"
   ]
  },
  {
   "cell_type": "code",
   "execution_count": 12,
   "metadata": {
    "collapsed": false
   },
   "outputs": [
    {
     "name": "stdout",
     "output_type": "stream",
     "text": [
      "0.535\n",
      "0.558441558442\n",
      "0.421568627451\n",
      "0.480446927374\n"
     ]
    }
   ],
   "source": [
    "from sklearn.metrics import accuracy_score, precision_score, recall_score, f1_score\n",
    "\n",
    "accuracy = accuracy_score(classification.true, classification.pred)\n",
    "precision = precision_score(classification.true, classification.pred)\n",
    "recall = recall_score(classification.true, classification.pred)\n",
    "f1 = f1_score(classification.true, classification.pred)\n",
    "\n",
    "print(accuracy)\n",
    "print(precision)\n",
    "print(recall)\n",
    "print(f1)"
   ]
  },
  {
   "cell_type": "code",
   "execution_count": 13,
   "metadata": {
    "collapsed": false
   },
   "outputs": [
    {
     "name": "stdout",
     "output_type": "stream",
     "text": [
      "0.71918767507\n",
      "0.708683473389\n",
      "0.635154061625\n",
      "0.691926770708\n"
     ]
    }
   ],
   "source": [
    "from sklearn.metrics import roc_auc_score\n",
    "\n",
    "score_logreg = roc_auc_score(scores.true, scores.score_logreg)\n",
    "score_svm = roc_auc_score(scores.true, scores.score_svm)\n",
    "score_knn = roc_auc_score(scores.true, scores.score_knn)\n",
    "score_tree = roc_auc_score(scores.true, scores.score_tree)\n",
    "\n",
    "print(score_logreg)\n",
    "print(score_svm)\n",
    "print(score_knn)\n",
    "print(score_tree)"
   ]
  },
  {
   "cell_type": "code",
   "execution_count": 48,
   "metadata": {
    "collapsed": false
   },
   "outputs": [
    {
     "name": "stdout",
     "output_type": "stream",
     "text": [
      "(0.63025210084033612, 0.76530612244897955, 0.48852200029860349)\n",
      "(0.6228070175438597, 0.72448979591836737, -0.12354033058671055)\n",
      "(0.60655737704918034, 0.75510204081632648, 0.31933449649129242)\n",
      "(0.6517857142857143, 0.74489795918367352, 0.40000000000000002)\n"
     ]
    }
   ],
   "source": [
    "from sklearn.metrics import precision_recall_curve\n",
    "\n",
    "pr_logreg = precision_recall_curve(scores.true, scores.score_logreg)\n",
    "pr_svm = precision_recall_curve(scores.true, scores.score_svm)\n",
    "pr_knn = precision_recall_curve(scores.true, scores.score_knn)\n",
    "pr_tree = precision_recall_curve(scores.true, scores.score_tree)\n",
    "\n",
    "def get_max(pr_data):\n",
    "    has_min_recall = filter(lambda row: row[1] >= 0.7, zip(*pr_data))\n",
    "    return max(has_min_recall, key=lambda row: row[0])\n",
    "\n",
    "logreg = get_max(pr_logreg)\n",
    "svm = get_max(pr_svm)\n",
    "knn = get_max(pr_knn)\n",
    "tree = get_max(pr_tree)\n",
    "\n",
    "print(logreg)\n",
    "print(svm)\n",
    "print(knn)\n",
    "print(tree)"
   ]
  }
 ],
 "metadata": {
  "kernelspec": {
   "display_name": "Python 2",
   "language": "python",
   "name": "python2"
  },
  "language_info": {
   "codemirror_mode": {
    "name": "ipython",
    "version": 2
   },
   "file_extension": ".py",
   "mimetype": "text/x-python",
   "name": "python",
   "nbconvert_exporter": "python",
   "pygments_lexer": "ipython2",
   "version": "2.7.6"
  }
 },
 "nbformat": 4,
 "nbformat_minor": 0
}
