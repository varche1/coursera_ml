{
 "cells": [
  {
   "cell_type": "code",
   "execution_count": 12,
   "metadata": {
    "collapsed": true
   },
   "outputs": [],
   "source": [
    "import pandas\n",
    "\n",
    "data = pandas.read_csv(filepath_or_buffer='abalone.csv')"
   ]
  },
  {
   "cell_type": "code",
   "execution_count": 13,
   "metadata": {
    "collapsed": false
   },
   "outputs": [],
   "source": [
    "data['Sex'] = data['Sex'].map(lambda x: 1 if x == 'M' else (-1 if x == 'F' else 0))"
   ]
  },
  {
   "cell_type": "code",
   "execution_count": 17,
   "metadata": {
    "collapsed": false
   },
   "outputs": [],
   "source": [
    "y = data['Rings']\n",
    "X = data.drop('Rings', axis=1)"
   ]
  },
  {
   "cell_type": "code",
   "execution_count": 21,
   "metadata": {
    "collapsed": false
   },
   "outputs": [],
   "source": [
    "from sklearn.ensemble import RandomForestRegressor\n",
    "from sklearn.cross_validation import KFold, cross_val_score\n",
    "\n",
    "\n",
    "def get_scores_by_n_tree(_X, _y, tree_count):\n",
    "    clf = RandomForestRegressor(n_estimators=tree_count, random_state=1)\n",
    "\n",
    "    k_fold = KFold(len(_y), n_folds=5, random_state=1, shuffle=True)\n",
    "    scores = cross_val_score(clf, _X, _y, cv=k_fold, scoring='r2')\n",
    "    return scores.mean()\n",
    "\n",
    "all_scores = list()\n",
    "for tree_count in range(1, 51):\n",
    "    all_scores.append((tree_count, get_scores_by_n_tree(X, y, tree_count=tree_count)))"
   ]
  },
  {
   "cell_type": "code",
   "execution_count": 22,
   "metadata": {
    "collapsed": false
   },
   "outputs": [
    {
     "data": {
      "text/plain": [
       "[(1, 0.10213869487724367),\n",
       " (2, 0.33841675515802144),\n",
       " (3, 0.40357984946186909),\n",
       " (4, 0.44272239896668103),\n",
       " (5, 0.46402076606749693),\n",
       " (6, 0.47058163275877918),\n",
       " (7, 0.47583061635230062),\n",
       " (8, 0.4817418456255852),\n",
       " (9, 0.4883478130215681),\n",
       " (10, 0.49446412480247826),\n",
       " (11, 0.4933965550001963),\n",
       " (12, 0.49796587639761541),\n",
       " (13, 0.50213646057228534),\n",
       " (14, 0.50642869622573283),\n",
       " (15, 0.50833119704321006),\n",
       " (16, 0.51051314383221469),\n",
       " (17, 0.51384829479930283),\n",
       " (18, 0.51632754127394931),\n",
       " (19, 0.51903468813638798),\n",
       " (20, 0.51867359287238224),\n",
       " (21, 0.51983542335425015),\n",
       " (22, 0.52015835367222107),\n",
       " (23, 0.52101727093662509),\n",
       " (24, 0.52240318258080909),\n",
       " (25, 0.52261746396760711),\n",
       " (26, 0.52380615817170517),\n",
       " (27, 0.52412235221889814),\n",
       " (28, 0.52505374512324399),\n",
       " (29, 0.52597037563489313),\n",
       " (30, 0.52653782166757546),\n",
       " (31, 0.52709985443060225),\n",
       " (32, 0.52838940820927838),\n",
       " (33, 0.52961655612292768),\n",
       " (34, 0.52956395544383794),\n",
       " (35, 0.52951724744047302),\n",
       " (36, 0.5295996267890184),\n",
       " (37, 0.52913141344745995),\n",
       " (38, 0.52916025763348329),\n",
       " (39, 0.52924098102743389),\n",
       " (40, 0.52906701596316297),\n",
       " (41, 0.52934200569111833),\n",
       " (42, 0.52957320653375461),\n",
       " (43, 0.52937549466485323),\n",
       " (44, 0.52911923375632508),\n",
       " (45, 0.52837546602772023),\n",
       " (46, 0.52852042754934581),\n",
       " (47, 0.52870494457919082),\n",
       " (48, 0.52961275154377341),\n",
       " (49, 0.53039445544344976),\n",
       " (50, 0.53059634353945351)]"
      ]
     },
     "execution_count": 22,
     "metadata": {},
     "output_type": "execute_result"
    }
   ],
   "source": [
    "all_scores"
   ]
  }
 ],
 "metadata": {
  "kernelspec": {
   "display_name": "Python 2",
   "language": "python",
   "name": "python2"
  },
  "language_info": {
   "codemirror_mode": {
    "name": "ipython",
    "version": 2
   },
   "file_extension": ".py",
   "mimetype": "text/x-python",
   "name": "python",
   "nbconvert_exporter": "python",
   "pygments_lexer": "ipython2",
   "version": "2.7.6"
  }
 },
 "nbformat": 4,
 "nbformat_minor": 0
}
