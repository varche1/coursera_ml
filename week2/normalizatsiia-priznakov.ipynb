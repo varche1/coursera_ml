{
 "cells": [
  {
   "cell_type": "code",
   "execution_count": 22,
   "metadata": {
    "collapsed": false
   },
   "outputs": [
    {
     "name": "stdout",
     "output_type": "stream",
     "text": [
      "0.36\n",
      "0.925\n",
      "0.565\n"
     ]
    }
   ],
   "source": [
    "import pandas\n",
    "import numpy as np\n",
    "from sklearn.linear_model import Perceptron\n",
    "from sklearn.preprocessing import StandardScaler\n",
    "from sklearn.metrics import accuracy_score\n",
    "\n",
    "# X = np.array([[1, 2], [3, 4], [5, 6]])\n",
    "# y = np.array([0, 1, 0])\n",
    "\n",
    "# clf = Perceptron()\n",
    "# clf.fit(X, y)\n",
    "# predictions = clf.predict(X)\n",
    "\n",
    "# scaler = StandardScaler()\n",
    "# X_train = np.array([[100.0, 2.0], [50.0, 4.0], [70.0, 6.0]])\n",
    "# X_test = np.array([[90.0, 1], [40.0, 3], [60.0, 4]])\n",
    "# X_train_scaled = scaler.fit_transform(X_train)\n",
    "# X_test_scaled = scaler.transform(X_test)\n",
    "\n",
    "# print(X_train_scaled)\n",
    "# print(X_test_scaled)\n",
    "\n",
    "data_train = pandas.read_csv(filepath_or_buffer='perceptron-train.csv', header=None)\n",
    "data_test = pandas.read_csv(filepath_or_buffer='perceptron-test.csv', header=None)\n",
    "\n",
    "Y_train = data_train[0]\n",
    "X_train = data_train.drop(0, axis=1)\n",
    "\n",
    "Y_test = data_test[0]\n",
    "X_test = data_test.drop(0, axis=1)\n",
    "\n",
    "clf = Perceptron(random_state=241)\n",
    "clf.fit(X_train, Y_train)\n",
    "predictions_1 = clf.predict(X_test)\n",
    "\n",
    "accuracy_1 = accuracy_score(Y_test, predictions_1)\n",
    "print(accuracy_1)\n",
    "\n",
    "scaler = StandardScaler()\n",
    "X_train_scaled = scaler.fit_transform(X_train)\n",
    "X_test_scaled = scaler.transform(X_test)\n",
    "\n",
    "clf = Perceptron(random_state=241)\n",
    "clf.fit(X_train_scaled, Y_train)\n",
    "predictions_2 = clf.predict(X_test_scaled)\n",
    "\n",
    "accuracy_2 = accuracy_score(Y_test, predictions_2)\n",
    "print(accuracy_2)\n",
    "\n",
    "print(accuracy_2-accuracy_1)"
   ]
  }
 ],
 "metadata": {
  "kernelspec": {
   "display_name": "Python 2",
   "language": "python",
   "name": "python2"
  },
  "language_info": {
   "codemirror_mode": {
    "name": "ipython",
    "version": 2
   },
   "file_extension": ".py",
   "mimetype": "text/x-python",
   "name": "python",
   "nbconvert_exporter": "python",
   "pygments_lexer": "ipython2",
   "version": "2.7.6"
  }
 },
 "nbformat": 4,
 "nbformat_minor": 0
}
