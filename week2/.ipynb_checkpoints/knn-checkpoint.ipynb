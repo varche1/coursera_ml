{
 "cells": [
  {
   "cell_type": "code",
   "execution_count": 28,
   "metadata": {
    "collapsed": false
   },
   "outputs": [
    {
     "name": "stdout",
     "output_type": "stream",
     "text": [
      "[(1, 0.7304761904761905), (2, 0.66253968253968254), (3, 0.70825396825396825), (4, 0.65777777777777779), (5, 0.67460317460317465), (6, 0.67428571428571438), (7, 0.68000000000000005), (8, 0.67999999999999994), (9, 0.70238095238095233), (10, 0.68015873015873018), (11, 0.70253968253968258), (12, 0.69666666666666666), (13, 0.69095238095238087), (14, 0.67936507936507939), (15, 0.70190476190476203), (16, 0.67952380952380964), (17, 0.70158730158730154), (18, 0.67952380952380953), (19, 0.67936507936507928), (20, 0.69095238095238087), (21, 0.70190476190476192), (22, 0.69650793650793641), (23, 0.70206349206349206), (24, 0.70761904761904759), (25, 0.70190476190476192), (26, 0.69650793650793652), (27, 0.69634920634920638), (28, 0.70793650793650786), (29, 0.7134920634920634), (30, 0.70793650793650786), (31, 0.69095238095238098), (32, 0.7134920634920634), (33, 0.7134920634920634), (34, 0.72460317460317469), (35, 0.72460317460317469), (36, 0.71349206349206362), (37, 0.7134920634920634), (38, 0.7134920634920634), (39, 0.70793650793650786), (40, 0.70777777777777773), (41, 0.7134920634920634), (42, 0.70777777777777773), (43, 0.70777777777777773), (44, 0.70777777777777773), (45, 0.70777777777777773), (46, 0.70777777777777773), (47, 0.69666666666666666), (48, 0.71904761904761916), (49, 0.69666666666666666), (50, 0.70777777777777773)]\n",
      "(1, 0.7304761904761905)\n"
     ]
    }
   ],
   "source": [
    "import pandas\n",
    "from sklearn.neighbors import KNeighborsClassifier\n",
    "from sklearn.cross_validation import KFold, cross_val_score\n",
    "\n",
    "header_name = [\n",
    "    'Class', 'Alcohol', 'MalicAcid', 'Ash', 'AlcalinityOfAsh', \n",
    "    'Magnesium', 'TotalPhenols', 'Flavanoids', 'NonflavanoidPhenols',\n",
    "    'Proanthocyanins', 'ColorIntensity', 'Hue', 'OD280', 'Proline'\n",
    "]\n",
    "data = pandas.read_csv(filepath_or_buffer='wine.data.txt', header=None, names=header_name)\n",
    "\n",
    "Y = data.Class\n",
    "X = data.drop('Class', axis=1)\n",
    "\n",
    "def get_scores_by_n_neighbors(d, x, y, n_neighbors):\n",
    "    clf = KNeighborsClassifier(n_neighbors=n_neighbors)\n",
    "\n",
    "    k_fold = KFold(len(d), n_folds=5, random_state=42, shuffle=True)\n",
    "    scores = cross_val_score(clf, x, y, cv=k_fold, scoring='accuracy')\n",
    "    return scores.mean()\n",
    "\n",
    "all_scores = list()\n",
    "for n_neighbors in range(1, 51):\n",
    "    all_scores.append((n_neighbors, get_scores_by_n_neighbors(data, X, Y, n_neighbors=n_neighbors)))\n",
    "    \n",
    "print(all_scores)\n",
    "max_scores = max(all_scores, key=lambda item: item[1])\n",
    "print(max_scores)"
   ]
  },
  {
   "cell_type": "code",
   "execution_count": 33,
   "metadata": {
    "collapsed": false
   },
   "outputs": [
    {
     "name": "stdout",
     "output_type": "stream",
     "text": [
      "[(1, 0.94396825396825401), (2, 0.93285714285714294), (3, 0.95507936507936508), (4, 0.93825396825396834), (5, 0.94936507936507941), (6, 0.94952380952380955), (7, 0.94952380952380955), (8, 0.95523809523809522), (9, 0.96079365079365076), (10, 0.96079365079365076), (11, 0.96095238095238089), (12, 0.95523809523809522), (13, 0.94952380952380933), (14, 0.96634920634920629), (15, 0.97206349206349218), (16, 0.97206349206349218), (17, 0.96650793650793643), (18, 0.96650793650793643), (19, 0.95539682539682536), (20, 0.96650793650793643), (21, 0.96095238095238111), (22, 0.96650793650793643), (23, 0.96095238095238089), (24, 0.95523809523809522), (25, 0.95523809523809522), (26, 0.96079365079365076), (27, 0.95523809523809522), (28, 0.96634920634920629), (29, 0.9776190476190475), (30, 0.96079365079365076), (31, 0.95523809523809522), (32, 0.96079365079365076), (33, 0.96634920634920629), (34, 0.96634920634920629), (35, 0.96079365079365076), (36, 0.96079365079365076), (37, 0.95523809523809522), (38, 0.96079365079365076), (39, 0.96079365079365076), (40, 0.96079365079365076), (41, 0.96634920634920629), (42, 0.96079365079365076), (43, 0.96634920634920629), (44, 0.96063492063492062), (45, 0.96634920634920629), (46, 0.94952380952380955), (47, 0.95507936507936508), (48, 0.94952380952380955), (49, 0.95507936507936508), (50, 0.96063492063492062)]\n",
      "(29, 0.9776190476190475)\n"
     ]
    }
   ],
   "source": [
    "from sklearn.preprocessing import scale\n",
    "\n",
    "\n",
    "X_scaled = scale(X)\n",
    "\n",
    "all_scores_scaled = list()\n",
    "for n_neighbors in range(1, 51):\n",
    "    all_scores_scaled.append((n_neighbors, get_scores_by_n_neighbors(data, X_scaled, Y, n_neighbors=n_neighbors)))\n",
    "    \n",
    "print(all_scores_scaled)\n",
    "max_scores_scaled = max(all_scores_scaled, key=lambda item: item[1])\n",
    "print(max_scores_scaled)"
   ]
  }
 ],
 "metadata": {
  "kernelspec": {
   "display_name": "Python 2",
   "language": "python",
   "name": "python2"
  },
  "language_info": {
   "codemirror_mode": {
    "name": "ipython",
    "version": 2
   },
   "file_extension": ".py",
   "mimetype": "text/x-python",
   "name": "python",
   "nbconvert_exporter": "python",
   "pygments_lexer": "ipython2",
   "version": "2.7.6"
  }
 },
 "nbformat": 4,
 "nbformat_minor": 0
}
