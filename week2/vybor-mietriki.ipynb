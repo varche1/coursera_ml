{
 "cells": [
  {
   "cell_type": "code",
   "execution_count": 1,
   "metadata": {
    "collapsed": false
   },
   "outputs": [
    {
     "name": "stdout",
     "output_type": "stream",
     "text": [
      "(1.0, -16.050208508436157)\n"
     ]
    }
   ],
   "source": [
    "from sklearn.neighbors import KNeighborsRegressor\n",
    "from sklearn.datasets import load_boston\n",
    "from sklearn.preprocessing import scale\n",
    "from sklearn.cross_validation import KFold, cross_val_score\n",
    "import numpy as np\n",
    "\n",
    "data = load_boston()\n",
    "X = scale(data.data)\n",
    "\n",
    "def get_scores_by_minkowski_p(x, y, minkowski_p):\n",
    "    clf = KNeighborsRegressor(n_neighbors=5, weights='distance', p=minkowski_p)\n",
    "\n",
    "    k_fold = KFold(len(x), n_folds=5, random_state=42, shuffle=True)\n",
    "    scores = cross_val_score(clf, x, y, cv=k_fold, scoring='mean_squared_error')\n",
    "    return scores.mean()\n",
    "\n",
    "all_scores = list()\n",
    "for minkowski_p in np.linspace(1.0, 10.0, num=200):\n",
    "    score = get_scores_by_minkowski_p(X, data.target, minkowski_p=minkowski_p)\n",
    "    all_scores.append((minkowski_p, score))\n",
    "    \n",
    "max_scores = max(all_scores, key=lambda item: item[1])\n",
    "print(max_scores)"
   ]
  }
 ],
 "metadata": {
  "kernelspec": {
   "display_name": "Python 2",
   "language": "python",
   "name": "python2"
  },
  "language_info": {
   "codemirror_mode": {
    "name": "ipython",
    "version": 2
   },
   "file_extension": ".py",
   "mimetype": "text/x-python",
   "name": "python",
   "nbconvert_exporter": "python",
   "pygments_lexer": "ipython2",
   "version": "2.7.6"
  }
 },
 "nbformat": 4,
 "nbformat_minor": 0
}
